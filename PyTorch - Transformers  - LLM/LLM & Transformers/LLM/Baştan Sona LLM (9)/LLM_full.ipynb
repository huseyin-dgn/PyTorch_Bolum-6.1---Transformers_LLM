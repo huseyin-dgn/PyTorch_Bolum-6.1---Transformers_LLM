{
 "cells": [
  {
   "cell_type": "markdown",
   "id": "597a8106",
   "metadata": {},
   "source": [
    "---\n",
    "## ⚠️ Not: Bu eğitim loop’undan elde edilen metrics değerlerini ciddiye almayınız. Amaç yalnızca eğitim sürecinin işleyişini ve hesaplanan metriklerin kullanımını göstermektir. Gerçekçi performans değerlendirmeleri için, daha kapsamlı veri setleri ve optimize edilmiş model konfigürasyonları ile diğer LLM projelerine göz atmanız tavsiye edilir.\n",
    "---"
   ]
  },
  {
   "cell_type": "code",
   "execution_count": 1,
   "id": "0ecbbcb4",
   "metadata": {},
   "outputs": [
    {
     "name": "stderr",
     "output_type": "stream",
     "text": [
      "c:\\Users\\hdgn5\\.conda\\envs\\torch_gpu\\lib\\site-packages\\tqdm\\auto.py:21: TqdmWarning: IProgress not found. Please update jupyter and ipywidgets. See https://ipywidgets.readthedocs.io/en/stable/user_install.html\n",
      "  from .autonotebook import tqdm as notebook_tqdm\n"
     ]
    }
   ],
   "source": [
    "from torch.utils.data import DataLoader , Dataset\n",
    "from transformers import AutoTokenizer, get_linear_schedule_with_warmup\n",
    "import torch\n",
    "import torch.nn as nn\n",
    "import torch.optim as optim\n",
    "from torch.optim import AdamW\n",
    "from torch.optim.lr_scheduler import LambdaLR\n",
    "import torch.nn.functional as F\n",
    "from tqdm import tqdm\n",
    "import numpy as np\n",
    "from nltk.translate.bleu_score import sentence_bleu\n",
    "import math\n",
    "from nltk.translate.bleu_score import corpus_bleu"
   ]
  },
  {
   "cell_type": "markdown",
   "id": "840aab5e",
   "metadata": {},
   "source": [
    "# Tokenizasyon\n"
   ]
  },
  {
   "cell_type": "code",
   "execution_count": 2,
   "id": "833ac636",
   "metadata": {},
   "outputs": [],
   "source": [
    "class TokenizasyonDataset(Dataset):\n",
    "    def __init__(self, sources, targets, tokenizer_name=\"t5-small\", max_length=64):\n",
    "        super().__init__()\n",
    "        self.sources = sources\n",
    "        self.targets = targets\n",
    "        self.tokenizer = AutoTokenizer.from_pretrained(tokenizer_name)\n",
    "        self.max_length = max_length\n",
    "\n",
    "        # Pad token yoksa düzelt\n",
    "        if self.tokenizer.pad_token is None:\n",
    "            self.tokenizer.pad_token = self.tokenizer.eos_token\n",
    "\n",
    "        # Decoder başlangıç tokeni belirle\n",
    "        self.decoder_start_token_id = (\n",
    "            self.tokenizer.bos_token_id if self.tokenizer.bos_token_id is not None\n",
    "            else self.tokenizer.pad_token_id\n",
    "        )\n",
    "\n",
    "    def __len__(self):\n",
    "        return len(self.sources)\n",
    "\n",
    "    def __getitem__(self, idx):\n",
    "        # Encoder tarafı\n",
    "        enc = self.tokenizer(\n",
    "            self.sources[idx],\n",
    "            max_length=self.max_length,\n",
    "            padding='max_length',\n",
    "            truncation=True,\n",
    "            return_tensors='pt'\n",
    "        )\n",
    "\n",
    "        # Decoder tarafı\n",
    "        dec = self.tokenizer(\n",
    "            self.targets[idx],\n",
    "            max_length=self.max_length,\n",
    "            padding='max_length',\n",
    "            truncation=True,\n",
    "            return_tensors='pt'\n",
    "        )\n",
    "\n",
    "        # Decoder input ve target oluştur\n",
    "        decoder_input_ids = torch.cat(\n",
    "            [torch.full((1, 1), self.decoder_start_token_id), dec['input_ids'][:, :-1]],\n",
    "            dim=1\n",
    "        )\n",
    "        decoder_target_ids = dec['input_ids']\n",
    "\n",
    "        return {\n",
    "            'encoder_input_ids': enc['input_ids'].squeeze(0),\n",
    "            'encoder_attention_mask': enc['attention_mask'].squeeze(0),\n",
    "            'decoder_input_ids': decoder_input_ids.squeeze(0),\n",
    "            'decoder_attention_mask': dec['attention_mask'].squeeze(0),\n",
    "            'decoder_target_ids': decoder_target_ids.squeeze(0)\n",
    "        }\n"
   ]
  },
  {
   "cell_type": "markdown",
   "id": "699c6466",
   "metadata": {},
   "source": [
    "### GET_İTEM Ne yapıyor ? \n",
    "\n",
    "#### 🧠 Yani:\n",
    "\n",
    "* idx → o sıradaki örnek (örneğin 0. cümle, 1. cümle vs.)\n",
    "\n",
    "* Fonksiyonun görevi → o tek örneği modelin anlayacağı tensörlere dönüştürmek\n",
    "\n",
    "* DataLoader → bunu her örnek için çağırır ve collate_fn ile batch haline getirir\n",
    "\n",
    "#### 🎯 Kısa Özet:\n",
    "\n",
    "* __getitem__() bir veri kümesindeki **tek örneği alır, işler, ve modelin doğrudan kullanabileceği tensorleri döndürür.`"
   ]
  },
  {
   "cell_type": "code",
   "execution_count": 3,
   "id": "012a52a8",
   "metadata": {},
   "outputs": [],
   "source": [
    "def collate_fn(batch):\n",
    "    enc_ids = torch.stack([item['encoder_input_ids'] for item in batch])\n",
    "    enc_mask = torch.stack([item['encoder_attention_mask'] for item in batch])\n",
    "    dec_ids = torch.stack([item['decoder_input_ids'] for item in batch])\n",
    "    dec_mask = torch.stack([item['decoder_attention_mask'] for item in batch])\n",
    "    dec_target = torch.stack([item['decoder_target_ids'] for item in batch])\n",
    "    return {\n",
    "        'encoder_input_ids': enc_ids,\n",
    "        'encoder_attention_mask': enc_mask,\n",
    "        'decoder_input_ids': dec_ids,\n",
    "        'decoder_attention_mask': dec_mask,\n",
    "        'decoder_target_ids': dec_target\n",
    "    }"
   ]
  },
  {
   "cell_type": "code",
   "execution_count": 4,
   "id": "17740407",
   "metadata": {},
   "outputs": [],
   "source": [
    "input_texts = [\n",
    "    \"Merhaba dünya!\",\n",
    "    \"Transformers çok güçlü.\",\n",
    "    \"Memory-efficient pipeline.\"\n",
    "]\n",
    "\n",
    "target_texts = [\n",
    "    \"Hello world!\",\n",
    "    \"Transformers are powerful.\",\n",
    "    \"Super useful pipeline.\"\n",
    "]"
   ]
  },
  {
   "cell_type": "code",
   "execution_count": 5,
   "id": "b0c4d273",
   "metadata": {},
   "outputs": [],
   "source": [
    "dataset = TokenizasyonDataset(input_texts, target_texts, tokenizer_name=\"t5-small\", max_length=16)\n",
    "dataloader = DataLoader(dataset, batch_size=2, shuffle=True, collate_fn=collate_fn)"
   ]
  },
  {
   "cell_type": "code",
   "execution_count": 6,
   "id": "da753915",
   "metadata": {},
   "outputs": [
    {
     "name": "stdout",
     "output_type": "stream",
     "text": [
      "Encoder Input IDs: torch.Size([2, 16])\n",
      "Encoder Attention Mask: torch.Size([2, 16])\n",
      "Decoder Input IDs: torch.Size([2, 16])\n",
      "Decoder Attention Mask: torch.Size([2, 16])\n",
      "Decoder Target IDs: torch.Size([2, 16])\n"
     ]
    }
   ],
   "source": [
    "device = \"cuda\" if torch.cuda.is_available() else \"cpu\"\n",
    "\n",
    "for batch in dataloader:\n",
    "    batch = {k:v.to(device) for k,v in batch.items()}\n",
    "    print(\"Encoder Input IDs:\", batch['encoder_input_ids'].shape)\n",
    "    print(\"Encoder Attention Mask:\", batch['encoder_attention_mask'].shape)\n",
    "    print(\"Decoder Input IDs:\", batch['decoder_input_ids'].shape)\n",
    "    print(\"Decoder Attention Mask:\", batch['decoder_attention_mask'].shape)\n",
    "    print(\"Decoder Target IDs:\", batch['decoder_target_ids'].shape)\n",
    "    break\n"
   ]
  },
  {
   "cell_type": "code",
   "execution_count": 7,
   "id": "3d43e6e2",
   "metadata": {},
   "outputs": [
    {
     "name": "stdout",
     "output_type": "stream",
     "text": [
      "tensor(22592, device='cuda:0')\n"
     ]
    }
   ],
   "source": [
    "batch_ids = batch['encoder_input_ids']\n",
    "print(batch_ids.max())\n"
   ]
  },
  {
   "cell_type": "markdown",
   "id": "58f1203c",
   "metadata": {},
   "source": [
    "# ENCODER & DECODER"
   ]
  },
  {
   "cell_type": "code",
   "execution_count": 8,
   "id": "38dc252c",
   "metadata": {},
   "outputs": [],
   "source": [
    "class DropPath(nn.Module):\n",
    "    def __init__(self, drop_prob = 0.2):\n",
    "        super().__init__()\n",
    "        self.drop_prob = drop_prob\n",
    "\n",
    "    def forward(self,x):\n",
    "        if self.drop_prob == 0.0 or not self.training:\n",
    "            return x\n",
    "        \n",
    "        keep_prob = 1 - self.drop_prob\n",
    "        shape = (x.size(0) , ) + (1,) * (x.ndim - 1) # n_dim = Tensor kaç boyutlu ?\n",
    "        random_tensor = keep_prob + torch.rand(shape , dtype= x.dtype , device = x.device)\n",
    "        random_tensor.floor_()\n",
    "        return x.div(keep_prob) * random_tensor"
   ]
  },
  {
   "cell_type": "markdown",
   "id": "7f568661",
   "metadata": {},
   "source": [
    "---"
   ]
  },
  {
   "cell_type": "markdown",
   "id": "eac4b9fb",
   "metadata": {},
   "source": [
    "## 🔹  shape nedir?"
   ]
  },
  {
   "cell_type": "markdown",
   "id": "032e47ac",
   "metadata": {},
   "source": [
    "#### Bu, random_tensor’ın şeklini (boyutlarını) belirliyor.\n",
    "* Amaç: her örnek (batch) için aynı dropout maskesi uygulamak, fakat her örneğe farklı mask olsun.\n",
    "\n",
    "Örnek:\n",
    "\n",
    "* Diyelim ki x’in boyutu:\n",
    "\n",
    "> x.shape = (batch=4, channels=64, height=8, width=8)\n",
    "\n",
    "* O zaman:\n",
    "```python\n",
    "x.size(0) = 4\n",
    "x.ndim = 4\n",
    "(1,) * (x.ndim - 1) = (1,1,1)\n",
    "shape = (4,) + (1,1,1) = (4,1,1,1)\n",
    "```\n",
    "\n",
    "\n",
    "* 📌 Yani random_tensor sadece batch boyutunda farklı, diğer tüm boyutlarda aynı olur.\n",
    "\n",
    "→ Bu da “her örnek farklı droppath maskesi alır” anlamına gelir.\n",
    "\n",
    "## 🔹  .floor_() ne yapar?\n",
    "\n",
    "* floor() → sayıları aşağıya yuvarlar (örneğin 1.7 → 1.0, 0.4 → 0.0)\n",
    "\n",
    "* .floor_() → sonundaki _ in-place anlamına gelir (yani değişkenin kendisini değiştirir, kopya oluşturmaz)."
   ]
  },
  {
   "cell_type": "markdown",
   "id": "5d8500d9",
   "metadata": {},
   "source": [
    "| Değişken / Fonksiyon | Görevi                                                             |\n",
    "| -------------------- | ------------------------------------------------------------------ |\n",
    "| `shape`              | Her batch örneğine 1 mask olacak şekilde boyut belirler            |\n",
    "| `random_tensor`      | Rastgele 0–1 mask oluşturur (hangi örnek düşecek, hangisi kalacak) |\n",
    "| `ndim`               | Tensörün kaç boyutlu olduğunu verir                                |\n",
    "| `.floor_()`          | Değerleri 0 veya 1’e yuvarlar (in-place)                           |\n",
    "| `.div(keep_prob)`    | Drop sonrası kalanları yeniden ölçeklendirir (ortalama korunur)    |\n"
   ]
  },
  {
   "cell_type": "markdown",
   "id": "81732cb9",
   "metadata": {},
   "source": [
    "---"
   ]
  },
  {
   "cell_type": "code",
   "execution_count": 9,
   "id": "d0d41237",
   "metadata": {},
   "outputs": [],
   "source": [
    "class TokenEmbedding(nn.Module):\n",
    "    def __init__(self, vocab_size, embed_dim):  # vocab_size önce, embed_dim sonra\n",
    "        super().__init__()\n",
    "        self.embedding = nn.Embedding(vocab_size, embed_dim)\n",
    "    \n",
    "    def forward(self, x):\n",
    "        return self.embedding(x)\n"
   ]
  },
  {
   "cell_type": "code",
   "execution_count": 10,
   "id": "47e3ac43",
   "metadata": {},
   "outputs": [],
   "source": [
    "class PositionelEncoding(nn.Module):\n",
    "    def __init__(self, embed_dim , max_len = 5000):\n",
    "        super().__init__()\n",
    "\n",
    "        pe = torch.zeros(max_len , embed_dim)\n",
    "        position = torch.arange(0 , max_len , dtype=torch.float).unsqueeze(1)\n",
    "        div_term = torch.exp(torch.arange(0 , embed_dim , 2).float() * (-math.log(10000.0) / embed_dim))\n",
    "        pe[:, 0::2] = torch.sin(position * div_term)\n",
    "        pe[:, 1::2] = torch.cos(position * div_term)\n",
    "        pe = pe.unsqueeze(0)\n",
    "        self.register_buffer('pe', pe)\n",
    "    \n",
    "    def forward(self,x):\n",
    "        seq_len = x.size(1)\n",
    "        return x + self.pe[:, :seq_len , :]"
   ]
  },
  {
   "cell_type": "code",
   "execution_count": 11,
   "id": "0adb332f",
   "metadata": {},
   "outputs": [],
   "source": [
    "class MultiHeadAttention(nn.Module):\n",
    "    def __init__(self, embed_dim, num_heads=16, dp=0.1):\n",
    "        super().__init__()\n",
    "        assert embed_dim % num_heads == 0\n",
    "        self.num_heads = num_heads\n",
    "        self.head_dim = embed_dim // num_heads\n",
    "        self.scale = self.head_dim ** -0.5\n",
    "\n",
    "        self.q_proj = nn.Linear(embed_dim, embed_dim)\n",
    "        self.k_proj = nn.Linear(embed_dim, embed_dim)\n",
    "        self.v_proj = nn.Linear(embed_dim, embed_dim)\n",
    "        self.out_proj = nn.Linear(embed_dim, embed_dim)\n",
    "        self.dropout = nn.Dropout(dp)\n",
    "\n",
    "    def split_heads(self, x):\n",
    "        B, T, C = x.size()\n",
    "        return x.view(B, T, self.num_heads, self.head_dim).transpose(1, 2)  # [B, num_heads, T, head_dim]\n",
    "\n",
    "    def combine_heads(self, x):\n",
    "        B, H, T, D = x.size()\n",
    "        return x.transpose(1, 2).contiguous().view(B, T, H * D)\n",
    "\n",
    "    def forward(self, query, key, value, mask=None):\n",
    "        Q = self.split_heads(self.q_proj(query))\n",
    "        K = self.split_heads(self.k_proj(key))\n",
    "        V = self.split_heads(self.v_proj(value))\n",
    "\n",
    "        scores = torch.matmul(Q, K.transpose(-2, -1)) * self.scale  # [B, H, T_q, T_k]\n",
    "\n",
    "        if mask is not None:\n",
    "            # Mask broadcast: [B, T] -> [B, 1, 1, T] -> broadcastable\n",
    "            if mask.dim() == 2:\n",
    "                mask = mask[:, None, None, :]\n",
    "            elif mask.dim() == 3:\n",
    "                mask = mask[:, None, :, :]  # [B,1,T_q,T_k] (cross attention)\n",
    "            scores = scores.masked_fill(mask == 0, float('-inf'))\n",
    "\n",
    "        attn = torch.softmax(scores, dim=-1)\n",
    "        attn = self.dropout(attn)\n",
    "        out = torch.matmul(attn, V)\n",
    "        return self.out_proj(self.combine_heads(out))\n"
   ]
  },
  {
   "cell_type": "code",
   "execution_count": 12,
   "id": "0b8e3a0e",
   "metadata": {},
   "outputs": [],
   "source": [
    "class FeedForward(nn.Module):\n",
    "    def __init__(self, embed_dim, expansion=8, dp=0.1, use_swiglu=False):\n",
    "        super().__init__()\n",
    "        if use_swiglu:\n",
    "            # SwiGLU activation\n",
    "            self.net = nn.Sequential(\n",
    "                nn.Linear(embed_dim, embed_dim * expansion * 2),\n",
    "                nn.SiLU(),\n",
    "                nn.Dropout(dp),\n",
    "                nn.Linear(embed_dim * expansion, embed_dim),\n",
    "                nn.Dropout(dp)\n",
    "            )\n",
    "        else:\n",
    "            self.net = nn.Sequential(\n",
    "                nn.Linear(embed_dim, embed_dim * expansion),\n",
    "                nn.GELU(),\n",
    "                nn.Dropout(dp),\n",
    "                nn.Linear(embed_dim * expansion, embed_dim),\n",
    "                nn.Dropout(dp)\n",
    "            )\n",
    "    def forward(self, x):\n",
    "        return self.net(x)"
   ]
  },
  {
   "cell_type": "markdown",
   "id": "002790c8",
   "metadata": {},
   "source": [
    "# Encoder"
   ]
  },
  {
   "cell_type": "code",
   "execution_count": 13,
   "id": "752db00b",
   "metadata": {},
   "outputs": [],
   "source": [
    "class TransformerEncoderBlockLLM(nn.Module):\n",
    "    def __init__(self, embed_dim=1024, num_heads=16, dp=0.1, drop_path=0.1, expansion=8, use_swiglu=False):\n",
    "        super().__init__()\n",
    "        self.norm1 = nn.LayerNorm(embed_dim)\n",
    "        self.norm2 = nn.LayerNorm(embed_dim)\n",
    "\n",
    "        self.self_attn = MultiHeadAttention(embed_dim, num_heads, dp)\n",
    "        self.ffn = FeedForward(embed_dim, expansion, dp, use_swiglu)\n",
    "\n",
    "        self.drop_path = DropPath(drop_path)\n",
    "        self.gamma_1 = nn.Parameter(torch.ones(embed_dim) * 1e-2)\n",
    "        self.gamma_2 = nn.Parameter(torch.ones(embed_dim) * 1e-2)\n",
    "\n",
    "    def forward(self, x, mask=None):\n",
    "        # Self-Attention\n",
    "        attn_out = self.self_attn(self.norm1(x), self.norm1(x), self.norm1(x), mask)\n",
    "        x = x + self.drop_path(self.gamma_1 * attn_out)\n",
    "        # FeedForward\n",
    "        ffn_out = self.ffn(self.norm2(x))\n",
    "        x = x + self.drop_path(self.gamma_2 * ffn_out)\n",
    "        return x"
   ]
  },
  {
   "cell_type": "code",
   "execution_count": 14,
   "id": "d1874cb3",
   "metadata": {},
   "outputs": [],
   "source": [
    "class TransformersEncoderLLM(nn.Module):\n",
    "    def __init__(self, vocab_size , embed_dim = 1024 , num_layers = 12 , dp = 0.1 ,num_heads=16 ,  expansion = 8 , max_len= 5000 , drop_path = 0.1 , use_swiglu =False):\n",
    "        super().__init__()\n",
    "\n",
    "        self.tok_emb = TokenEmbedding(vocab_size,embed_dim)\n",
    "        self.pos_enc = PositionelEncoding(embed_dim , max_len)\n",
    "        self.layers = nn.ModuleList(\n",
    "            [TransformerEncoderBlockLLM(embed_dim , num_heads , dp , drop_path , expansion , use_swiglu) for _ in range(num_layers)]\n",
    "            )\n",
    "        self.norm = nn.LayerNorm(embed_dim)\n",
    "    \n",
    "    def forward(self,src_tokens , src_mask =None):\n",
    "        x = self.tok_emb(src_tokens)\n",
    "        x = self.pos_enc(x)\n",
    "        for layer in self.layers:\n",
    "            x = layer(x,mask = src_mask)\n",
    "        x = self.norm(x)\n",
    "        return x"
   ]
  },
  {
   "cell_type": "markdown",
   "id": "b52e8750",
   "metadata": {},
   "source": [
    "# DECODER"
   ]
  },
  {
   "cell_type": "code",
   "execution_count": 15,
   "id": "5b09cf1f",
   "metadata": {},
   "outputs": [],
   "source": [
    "class TransformerDecoderBlockLLM(nn.Module):\n",
    "    def __init__(self, embed_dim=1024, num_heads=16, dp=0.1, drop_path=0.1, expansion=8, use_swiglu=False):\n",
    "        super().__init__()\n",
    "        self.norm1 = nn.LayerNorm(embed_dim)\n",
    "        self.norm2 = nn.LayerNorm(embed_dim)\n",
    "        self.norm3 = nn.LayerNorm(embed_dim)\n",
    "\n",
    "        self.self_attn = MultiHeadAttention(embed_dim, num_heads, dp)\n",
    "        self.cross_attn = MultiHeadAttention(embed_dim, num_heads, dp)\n",
    "        self.ffn = FeedForward(embed_dim, expansion, dp, use_swiglu)\n",
    "\n",
    "        self.drop_path = DropPath(drop_path)\n",
    "        self.gamma_1 = nn.Parameter(torch.ones(embed_dim) * 1e-2)\n",
    "        self.gamma_2 = nn.Parameter(torch.ones(embed_dim) * 1e-2)\n",
    "        self.gamma_3 = nn.Parameter(torch.ones(embed_dim) * 1e-2)\n",
    "\n",
    "    def forward(self, x, enc_out=None, self_mask=None, enc_mask=None):\n",
    "        # Masked Self-Attention\n",
    "        if self_mask is not None:\n",
    "            # [B, T] -> [B, 1, T, T] (triangular mask veya pad mask)\n",
    "            if self_mask.dim() == 2:\n",
    "                # Causal mask: üst üçgen mask için manuel ekleme gerekebilir\n",
    "                causal_mask = torch.tril(torch.ones((x.size(1), x.size(1)), device=x.device)).bool()\n",
    "                self_mask = self_mask[:, None, :] & causal_mask[None, :, :]\n",
    "        attn_out = self.self_attn(self.norm1(x), self.norm1(x), self.norm1(x), mask=self_mask)\n",
    "        x = x + self.drop_path(self.gamma_1 * attn_out)\n",
    "\n",
    "        # Cross-Attention\n",
    "        if enc_out is not None:\n",
    "            if enc_mask is not None and enc_mask.dim() == 2:\n",
    "                enc_mask = enc_mask[:, None, None, :]  # [B,1,1,T_enc]\n",
    "            cross_out = self.cross_attn(self.norm2(x), self.norm2(enc_out), self.norm2(enc_out), mask=enc_mask)\n",
    "            x = x + self.drop_path(self.gamma_2 * cross_out)\n",
    "\n",
    "        # FeedForward\n",
    "        ffn_out = self.ffn(self.norm3(x))\n",
    "        x = x + self.drop_path(self.gamma_3 * ffn_out)\n",
    "\n",
    "        return x\n"
   ]
  },
  {
   "cell_type": "code",
   "execution_count": 16,
   "id": "bf36a7eb",
   "metadata": {},
   "outputs": [],
   "source": [
    "class TransformerDecoderLLM(nn.Module):\n",
    "    def __init__(self, vocab_size, embed_dim=1024, num_layers=12, num_heads=16, dp=0.1, drop_path=0.1, expansion=8, max_len=5000, use_swiglu=False):\n",
    "        super().__init__()\n",
    "        self.embedding = TokenEmbedding(vocab_size, embed_dim)\n",
    "        self.pos_encoding = PositionelEncoding(embed_dim, max_len)\n",
    "        self.layers = nn.ModuleList([\n",
    "            TransformerDecoderBlockLLM(embed_dim, num_heads, dp, drop_path, expansion, use_swiglu) for _ in range(num_layers)\n",
    "        ])\n",
    "        self.norm = nn.LayerNorm(embed_dim)\n",
    "        self.lm_head = nn.Linear(embed_dim, vocab_size)\n",
    "\n",
    "    def forward(self, x, enc_out=None, self_mask=None, enc_mask=None):\n",
    "        x = self.embedding(x)\n",
    "        x = self.pos_encoding(x)\n",
    "        for layer in self.layers:\n",
    "            x = layer(x, enc_out, self_mask, enc_mask)\n",
    "        x = self.norm(x)\n",
    "        logits = self.lm_head(x)\n",
    "        return logits"
   ]
  },
  {
   "cell_type": "markdown",
   "id": "8cf578a4",
   "metadata": {},
   "source": [
    "# TRAİN_LOOP"
   ]
  },
  {
   "cell_type": "code",
   "execution_count": 17,
   "id": "80b93b31",
   "metadata": {},
   "outputs": [],
   "source": [
    "vocab_size = 20000   \n",
    "embed_dim = 1024\n",
    "num_layers = 12\n",
    "num_heads = 16\n",
    "dp = 0.1\n",
    "drop_path = 0.1\n",
    "expansion = 8\n",
    "max_len = 512\n",
    "use_swiglu = False"
   ]
  },
  {
   "cell_type": "code",
   "execution_count": 18,
   "id": "39d73493",
   "metadata": {},
   "outputs": [],
   "source": [
    "vocab_size = dataset.tokenizer.vocab_size\n",
    "\n",
    "encoder = TransformersEncoderLLM(\n",
    "    vocab_size=vocab_size,\n",
    "    embed_dim=embed_dim,\n",
    "    num_layers=num_layers,\n",
    "    num_heads=num_heads,\n",
    "    dp=dp,\n",
    "    drop_path=drop_path,\n",
    "    expansion=expansion,\n",
    "    max_len=max_len,\n",
    "    use_swiglu=use_swiglu\n",
    ")\n",
    "\n",
    "decoder = TransformerDecoderLLM(\n",
    "    vocab_size=vocab_size,\n",
    "    embed_dim=embed_dim,\n",
    "    num_layers=num_layers,\n",
    "    num_heads=num_heads,\n",
    "    dp=dp,\n",
    "    drop_path=drop_path,\n",
    "    expansion=expansion,\n",
    "    max_len=max_len,\n",
    "    use_swiglu=use_swiglu\n",
    ")\n"
   ]
  },
  {
   "cell_type": "code",
   "execution_count": 19,
   "id": "43b10073",
   "metadata": {},
   "outputs": [],
   "source": [
    "class Seq2SeqLLM(nn.Module):\n",
    "    def __init__(self, encoder, decoder):\n",
    "        super().__init__()\n",
    "        self.encoder = encoder\n",
    "        self.decoder = decoder\n",
    "    \n",
    "    def forward(self, src_tokens, tgt_tokens, src_mask=None, tgt_mask=None):\n",
    "        enc_out = self.encoder(src_tokens, src_mask)\n",
    "        logits = self.decoder(tgt_tokens, enc_out, self_mask=tgt_mask, enc_mask=src_mask)\n",
    "        return logits"
   ]
  },
  {
   "cell_type": "code",
   "execution_count": 20,
   "id": "cc755a76",
   "metadata": {},
   "outputs": [],
   "source": [
    "model = Seq2SeqLLM(encoder, decoder).to(device)"
   ]
  },
  {
   "cell_type": "code",
   "execution_count": 21,
   "id": "97a19ad7",
   "metadata": {},
   "outputs": [],
   "source": [
    "import torch\n",
    "import torch.nn.functional as F\n",
    "\n",
    "def generate_seq2seq(model, tokenizer, src_texts, max_len=32, top_k=50, top_p=0.9, device=\"cuda\"):\n",
    "    \"\"\"\n",
    "    Seq2Seq için Top-K + Top-P (nucleus) sampling tabanlı generation\n",
    "    \"\"\"\n",
    "    model.eval()\n",
    "    # -----------------------------\n",
    "    # Encoder tokenization\n",
    "    # -----------------------------\n",
    "    batch_enc = tokenizer(\n",
    "        src_texts,\n",
    "        padding='longest',\n",
    "        truncation=True,\n",
    "        max_length=max_len,\n",
    "        return_tensors='pt'\n",
    "    )\n",
    "    enc_ids = batch_enc['input_ids'].to(device)\n",
    "    enc_mask = batch_enc['attention_mask'].to(device)\n",
    "\n",
    "    # -----------------------------\n",
    "    # Decoder başlangıcı (bos/pad token)\n",
    "    # -----------------------------\n",
    "    dec_input_ids = torch.full(\n",
    "        (enc_ids.size(0), 1),\n",
    "        tokenizer.pad_token_id,\n",
    "        dtype=torch.long,\n",
    "        device=device\n",
    "    )\n",
    "\n",
    "    outputs = []\n",
    "\n",
    "    # -----------------------------\n",
    "    # Adım adım generation\n",
    "    # -----------------------------\n",
    "    with torch.no_grad():\n",
    "        for step in range(max_len):\n",
    "            logits = model(enc_ids, dec_input_ids, src_mask=enc_mask, tgt_mask=None)\n",
    "            next_token_logits = logits[:, -1, :]  # sadece son token\n",
    "            # -----------------------------\n",
    "            # Top-K sampling\n",
    "            # -----------------------------\n",
    "            if top_k > 0:\n",
    "                topk_vals, topk_idx = torch.topk(next_token_logits, top_k)\n",
    "                next_token_logits_filtered = torch.full_like(next_token_logits, -float('Inf'))\n",
    "                next_token_logits_filtered.scatter_(1, topk_idx, topk_vals)\n",
    "                next_token_logits = next_token_logits_filtered\n",
    "\n",
    "            # -----------------------------\n",
    "            # Top-P (nucleus) sampling\n",
    "            # -----------------------------\n",
    "            if top_p < 1.0:\n",
    "                sorted_logits, sorted_indices = torch.sort(next_token_logits, descending=True, dim=-1)\n",
    "                cumulative_probs = torch.cumsum(F.softmax(sorted_logits, dim=-1), dim=-1)\n",
    "                mask = cumulative_probs > top_p\n",
    "                mask[..., 1:] = mask[..., :-1].clone()\n",
    "                mask[..., 0] = 0\n",
    "                next_token_logits[sorted_indices] = next_token_logits[sorted_indices].masked_fill(mask, -float('Inf'))\n",
    "\n",
    "            probs = F.softmax(next_token_logits, dim=-1)\n",
    "            next_tokens = torch.multinomial(probs, num_samples=1)\n",
    "\n",
    "            dec_input_ids = torch.cat([dec_input_ids, next_tokens], dim=1)\n",
    "\n",
    "    # -----------------------------\n",
    "    # Decode token IDs -> string\n",
    "    # -----------------------------\n",
    "    for seq in dec_input_ids:\n",
    "        text = tokenizer.decode(seq, skip_special_tokens=True)\n",
    "        outputs.append(text)\n",
    "\n",
    "    return outputs"
   ]
  },
  {
   "cell_type": "markdown",
   "id": "29bc0493",
   "metadata": {},
   "source": [
    "# LOSS % METRİCS"
   ]
  },
  {
   "cell_type": "code",
   "execution_count": 22,
   "id": "f61c4fa9",
   "metadata": {},
   "outputs": [],
   "source": [
    "def masked_cross_entropy_loss(logits, target_ids, pad_token_id):\n",
    "    \"\"\"Maskeli CrossEntropyLoss\"\"\"\n",
    "    loss_fct = torch.nn.CrossEntropyLoss(ignore_index=pad_token_id)\n",
    "    return loss_fct(logits.view(-1, logits.size(-1)), target_ids.view(-1))"
   ]
  },
  {
   "cell_type": "code",
   "execution_count": 23,
   "id": "73893755",
   "metadata": {},
   "outputs": [],
   "source": [
    "def accuracy_fn(preds, labels, pad_token_id):\n",
    "    mask = labels != pad_token_id\n",
    "    correct = (preds == labels) & mask\n",
    "    return correct.sum().item() / mask.sum().item()"
   ]
  },
  {
   "cell_type": "code",
   "execution_count": 24,
   "id": "dc511d82",
   "metadata": {},
   "outputs": [],
   "source": [
    "def top_k_accuracy_fn(logits, labels, pad_token_id, k=5):\n",
    "\n",
    "    \"\"\"Top-K accuracy: doğru token top-k tahmin içinde ise sayılır\"\"\"\n",
    "    \n",
    "    mask = labels != pad_token_id\n",
    "    topk = torch.topk(logits, k, dim=-1).indices\n",
    "    match = (topk == labels.unsqueeze(-1)).any(dim=-1)\n",
    "    return (match & mask).sum().item() / mask.sum().item()"
   ]
  },
  {
   "cell_type": "code",
   "execution_count": 25,
   "id": "bee24517",
   "metadata": {},
   "outputs": [],
   "source": [
    "def calculate_llm_metrics(logits, target_ids, pad_token_id):\n",
    "    # ---- Perplexity ----\n",
    "    loss_fct = torch.nn.CrossEntropyLoss(ignore_index=pad_token_id, reduction='none')\n",
    "    loss = loss_fct(logits.view(-1, logits.size(-1)), target_ids.view(-1))\n",
    "    ppl = torch.exp(loss.mean())\n",
    "\n",
    "    # ---- BLEU ----\n",
    "    preds = logits.argmax(-1).cpu().numpy()\n",
    "    targets = target_ids.cpu().numpy()\n",
    "    bleu_scores = []\n",
    "    for p, t in zip(preds, targets):\n",
    "        p_tokens = [tok for tok in p if tok != pad_token_id]\n",
    "        t_tokens = [tok for tok in t if tok != pad_token_id]\n",
    "        if len(p_tokens) == 0 or len(t_tokens) == 0:\n",
    "            bleu_scores.append(0.0)\n",
    "        else:\n",
    "            bleu_scores.append(sentence_bleu([t_tokens], p_tokens))\n",
    "    avg_bleu = sum(bleu_scores) / len(bleu_scores)\n",
    "    return ppl.item(), avg_bleu"
   ]
  },
  {
   "cell_type": "code",
   "execution_count": null,
   "id": "8c43356e",
   "metadata": {},
   "outputs": [],
   "source": [
    "def LLM_Train(model, dataloader, optimizer, scheduler, tokenizer, device, epochs=3):\n",
    "    model.train()\n",
    "\n",
    "    for epoch in range(epochs):\n",
    "        total_loss = 0.0\n",
    "        total_acc = 0.0\n",
    "        total_top5 = 0.0\n",
    "        total_ppl = 0.0\n",
    "        total_bleu = 0.0\n",
    "        steps = 0\n",
    "\n",
    "        pbar = tqdm(dataloader, desc=f\"Epoch {epoch+1}/{epochs}\")\n",
    "\n",
    "        for batch in pbar:\n",
    "            batch = {k: v.to(device) for k, v in batch.items()}\n",
    "            optimizer.zero_grad()\n",
    "\n",
    "            # ---- Forward ----\n",
    "            logits = model(\n",
    "                src_tokens=batch['encoder_input_ids'],\n",
    "                tgt_tokens=batch['decoder_input_ids'],\n",
    "                src_mask=batch['encoder_attention_mask'],\n",
    "                tgt_mask=batch['decoder_attention_mask']\n",
    "            )\n",
    "\n",
    "            # ---- Loss ----\n",
    "            loss = masked_cross_entropy_loss(\n",
    "                logits,\n",
    "                batch['decoder_target_ids'],\n",
    "                pad_token_id=tokenizer.pad_token_id\n",
    "            )\n",
    "\n",
    "            # ---- Backward ----\n",
    "            loss.backward()\n",
    "            optimizer.step()\n",
    "            scheduler.step()\n",
    "\n",
    "            # ---- Metrics ----\n",
    "            preds = logits.argmax(-1)\n",
    "            acc = accuracy_fn(preds, batch['decoder_target_ids'], tokenizer.pad_token_id)\n",
    "            top5 = top_k_accuracy_fn(logits, batch['decoder_target_ids'], tokenizer.pad_token_id, k=5)\n",
    "            ppl, bleu = calculate_llm_metrics(logits, batch['decoder_target_ids'], tokenizer.pad_token_id)\n",
    "\n",
    "            total_loss += loss.item()\n",
    "            total_acc += acc\n",
    "            total_top5 += top5\n",
    "            total_ppl += ppl\n",
    "            total_bleu += bleu\n",
    "            steps += 1\n",
    "\n",
    "            pbar.set_postfix({\n",
    "                \"Loss\": f\"{total_loss/steps:.4f}\",\n",
    "                \"Acc\": f\"{total_acc/steps:.4f}\",\n",
    "                \"Top5\": f\"{total_top5/steps:.4f}\",\n",
    "                \"PPL\": f\"{total_ppl/steps:.2f}\",\n",
    "                \"BLEU\": f\"{total_bleu/steps:.4f}\"\n",
    "            })\n",
    "\n",
    "        print(f\"\\n✅ Epoch {epoch+1} — Avg Loss: {total_loss/steps:.4f}, Accuracy: {total_acc/steps:.4f}, \"\n",
    "              f\"Top-5: {total_top5/steps:.4f}, Perplexity: {total_ppl/steps:.2f}, BLEU: {total_bleu/steps:.4f}\\n\")\n",
    "\n",
    "    print(\"⚠️ Bu metric değerleri örnek eğitim loop’u içindir. Gerçek LLM projelerinde değerler çok daha anlamlıdır. \"\n",
    "          \"Diğer uygulamalara göz atabilirsiniz.\")"
   ]
  },
  {
   "cell_type": "code",
   "execution_count": 27,
   "id": "949a6dd7",
   "metadata": {},
   "outputs": [],
   "source": [
    "optimizer = AdamW(model.parameters(), lr=5e-5, weight_decay=0.01)\n",
    "\n",
    "num_training_steps = len(dataloader) * 3\n",
    "scheduler = LambdaLR(optimizer, lr_lambda=lambda step: 1 - step / num_training_steps)\n"
   ]
  },
  {
   "cell_type": "code",
   "execution_count": 28,
   "id": "db426324",
   "metadata": {},
   "outputs": [
    {
     "name": "stderr",
     "output_type": "stream",
     "text": [
      "Epoch 1/3: 100%|██████████| 2/2 [00:11<00:00,  5.71s/it, Loss=10.3741, Acc=0.0000, Top5=0.0000, PPL=25.12, BLEU=0.0000]\n"
     ]
    },
    {
     "name": "stdout",
     "output_type": "stream",
     "text": [
      "\n",
      "✅ Epoch 1 — Avg Loss: 10.3741, Accuracy: 0.0000, Top-5: 0.0000, Perplexity: 25.12, BLEU: 0.0000\n",
      "\n"
     ]
    },
    {
     "name": "stderr",
     "output_type": "stream",
     "text": [
      "Epoch 2/3: 100%|██████████| 2/2 [00:17<00:00,  8.81s/it, Loss=10.1261, Acc=0.0000, Top5=0.0000, PPL=23.10, BLEU=0.0000]\n"
     ]
    },
    {
     "name": "stdout",
     "output_type": "stream",
     "text": [
      "\n",
      "✅ Epoch 2 — Avg Loss: 10.1261, Accuracy: 0.0000, Top-5: 0.0000, Perplexity: 23.10, BLEU: 0.0000\n",
      "\n"
     ]
    },
    {
     "name": "stderr",
     "output_type": "stream",
     "text": [
      "Epoch 3/3: 100%|██████████| 2/2 [00:16<00:00,  8.34s/it, Loss=10.0326, Acc=0.0000, Top5=0.0000, PPL=28.62, BLEU=0.0000]"
     ]
    },
    {
     "name": "stdout",
     "output_type": "stream",
     "text": [
      "\n",
      "✅ Epoch 3 — Avg Loss: 10.0326, Accuracy: 0.0000, Top-5: 0.0000, Perplexity: 28.62, BLEU: 0.0000\n",
      "\n",
      "⚠️ Bu metric değerleri örnek eğitim loop’u içindir. Gerçek LLM projelerinde değerler çok daha anlamlıdır. Diğer uygulamalara göz atabilirsiniz.\n"
     ]
    },
    {
     "name": "stderr",
     "output_type": "stream",
     "text": [
      "\n"
     ]
    }
   ],
   "source": [
    "LLM_Train(model, dataloader, optimizer, scheduler, dataset.tokenizer, device, epochs=3)"
   ]
  },
  {
   "cell_type": "code",
   "execution_count": 30,
   "id": "deeb3340",
   "metadata": {},
   "outputs": [],
   "source": [
    "import matplotlib.pyplot as plt\n",
    "\n",
    "def plot_training_metrics(\n",
    "    losses=None,\n",
    "    accuracies=None,\n",
    "    top5_accuracies=None,\n",
    "    perplexities=None,\n",
    "    bleus=None,\n",
    "    title_suffix=\"\"\n",
    "):\n",
    "    \"\"\"\n",
    "    Training loop'tan bağımsız olarak metricleri görselleştirir.\n",
    "    \n",
    "    Parametreler:\n",
    "    - losses, accuracies, top5_accuracies, perplexities, bleus: epoch başına metric listeleri\n",
    "    - title_suffix: Grafiğe ek başlık bilgisi (opsiyonel)\n",
    "    \"\"\"\n",
    "    epochs = range(1, len(losses)+1 if losses is not None else 1)\n",
    "\n",
    "    plt.figure(figsize=(16, 6))\n",
    "\n",
    "    # ----- Loss ve Accuracy -----\n",
    "    plt.subplot(1, 2, 1)\n",
    "    if losses is not None:\n",
    "        plt.plot(epochs, losses, label=\"Loss\", marker='o')\n",
    "    if accuracies is not None:\n",
    "        plt.plot(epochs, accuracies, label=\"Accuracy\", marker='o')\n",
    "    if top5_accuracies is not None:\n",
    "        plt.plot(epochs, top5_accuracies, label=\"Top-5 Accuracy\", marker='o')\n",
    "    plt.xlabel(\"Epoch\")\n",
    "    plt.ylabel(\"Değer\")\n",
    "    plt.title(f\"Loss & Accuracy Metrics {title_suffix}\")\n",
    "    plt.legend()\n",
    "    plt.grid(True)\n",
    "\n",
    "    # ----- LLM spesifik metrics -----\n",
    "    plt.subplot(1, 2, 2)\n",
    "    if perplexities is not None:\n",
    "        plt.plot(epochs, perplexities, label=\"Perplexity\", marker='o')\n",
    "    if bleus is not None:\n",
    "        plt.plot(epochs, bleus, label=\"BLEU\", marker='o')\n",
    "    plt.xlabel(\"Epoch\")\n",
    "    plt.ylabel(\"Değer\")\n",
    "    plt.title(f\"LLM Specific Metrics {title_suffix}\")\n",
    "    plt.legend()\n",
    "    plt.grid(True)\n",
    "\n",
    "    plt.tight_layout()\n",
    "    plt.show()\n"
   ]
  },
  {
   "cell_type": "code",
   "execution_count": 31,
   "id": "1bb8a326",
   "metadata": {},
   "outputs": [
    {
     "data": {
      "image/png": "[encoded data removed]",
      "text/plain": [
       "<Figure size 1600x600 with 2 Axes>"
      ]
     },
     "metadata": {},
     "output_type": "display_data"
    }
   ],
   "source": [
    "# Örnek dummy veriler\n",
    "losses = [10.4, 10.2, 10.1]\n",
    "accuracies = [0.0, 0.0, 0.0]\n",
    "top5 = [0.0, 0.0, 0.0]\n",
    "ppls = [32100, 31000, 30000]\n",
    "bleus = [0.0, 0.05, 0.08]\n",
    "\n",
    "plot_training_metrics(\n",
    "    losses=losses,\n",
    "    accuracies=accuracies,\n",
    "    top5_accuracies=top5,\n",
    "    perplexities=ppls,\n",
    "    bleus=bleus,\n",
    "    title_suffix=\"(Örnek Eğitim)\"\n",
    ")\n"
   ]
  }
 ],
 "metadata": {
  "kernelspec": {
   "display_name": "torch_gpu",
   "language": "python",
   "name": "python3"
  },
  "language_info": {
   "codemirror_mode": {
    "name": "ipython",
    "version": 3
   },
   "file_extension": ".py",
   "mimetype": "text/x-python",
   "name": "python",
   "nbconvert_exporter": "python",
   "pygments_lexer": "ipython3",
   "version": "3.10.18"
  }
 },
 "nbformat": 4,
 "nbformat_minor": 5
}
