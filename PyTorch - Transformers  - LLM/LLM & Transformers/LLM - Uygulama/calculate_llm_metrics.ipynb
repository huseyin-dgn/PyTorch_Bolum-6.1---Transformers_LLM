{
 "cells": [
  {
   "cell_type": "markdown",
   "id": "70509fb1",
   "metadata": {},
   "source": [
    "## `calculate_llm_metrics` Fonksiyonu İncelemesi\n",
    "\n",
    "Bu fonksiyon, bir seq2seq LLM (örn. T5, BART) için **perplexity** ve **BLEU skorlarını** hesaplar. Adım adım işleyişi şöyle:\n",
    "\n",
    "---\n",
    "\n",
    "### 1️⃣ Smoothing fonksiyonu\n",
    "\n",
    "```python\n",
    "smooth = SmoothingFunction().method1\n",
    "\n"
   ]
  },
  {
   "cell_type": "markdown",
   "id": "8fffdca6",
   "metadata": {},
   "source": [
    "### BLEU hesaplamasında kullanılan “smoothing” yöntemi.\n",
    "\n",
    "* Kısa cümleler veya hiç eşleşmeyen n-gram durumlarında sıfır skorun önüne geçer."
   ]
  },
  {
   "cell_type": "markdown",
   "id": "204779f8",
   "metadata": {},
   "source": [
    "### 2️⃣ Perplexity (PPL) hesaplama"
   ]
  },
  {
   "cell_type": "code",
   "execution_count": 2,
   "id": "2a612764",
   "metadata": {},
   "outputs": [],
   "source": [
    "import torch"
   ]
  },
  {
   "cell_type": "code",
   "execution_count": null,
   "id": "3286ca9f",
   "metadata": {},
   "outputs": [],
   "source": [
    "loss_fct = torch.nn.CrossEntropyLoss(ignore_index=pad_token_id, reduction='none')\n",
    "loss = loss_fct(logits.view(-1, logits.size(-1)), target_ids.view(-1))\n",
    "ppl = torch.exp(loss.mean())"
   ]
  },
  {
   "cell_type": "markdown",
   "id": "00aef843",
   "metadata": {},
   "source": [
    "* CrossEntropyLoss kullanılarak token-level loss hesaplanır.\n",
    "\n",
    "* ignore_index=pad_token_id → PAD tokenleri loss hesabına dahil edilmez.\n",
    "\n",
    "* reduction='none' → her token için loss ayrı hesaplanır.\n",
    "\n",
    "* torch.exp(loss.mean()) → average token loss’tan perplexity elde edilir.\n",
    "\n",
    "* Perplexity = modelin tahmin belirsizliği, düşük PPL = daha iyi model."
   ]
  },
  {
   "cell_type": "markdown",
   "id": "103ad93a",
   "metadata": {},
   "source": [
    "### 3️⃣ BLEU skorları hesaplama"
   ]
  },
  {
   "cell_type": "code",
   "execution_count": null,
   "id": "ab84c387",
   "metadata": {},
   "outputs": [],
   "source": [
    "preds = logits.argmax(-1).cpu().numpy()\n",
    "targets = target_ids.cpu().numpy()"
   ]
  },
  {
   "cell_type": "markdown",
   "id": "ea975a6a",
   "metadata": {},
   "source": []
  }
 ],
 "metadata": {
  "kernelspec": {
   "display_name": "torch_gpu",
   "language": "python",
   "name": "python3"
  },
  "language_info": {
   "codemirror_mode": {
    "name": "ipython",
    "version": 3
   },
   "file_extension": ".py",
   "mimetype": "text/x-python",
   "name": "python",
   "nbconvert_exporter": "python",
   "pygments_lexer": "ipython3",
   "version": "3.10.18"
  }
 },
 "nbformat": 4,
 "nbformat_minor": 5
}
