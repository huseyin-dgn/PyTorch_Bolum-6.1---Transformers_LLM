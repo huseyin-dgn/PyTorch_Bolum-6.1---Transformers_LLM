{
 "cells": [
  {
   "cell_type": "code",
   "execution_count": 1,
   "id": "7dae5471",
   "metadata": {},
   "outputs": [],
   "source": [
    "import torch\n",
    "torch.cuda.empty_cache()\n"
   ]
  },
  {
   "cell_type": "markdown",
   "id": "7746a105",
   "metadata": {},
   "source": [
    "* Özellikle notebook’ta yeniden çalıştırmadan önce kullanın."
   ]
  },
  {
   "cell_type": "markdown",
   "id": "2c8a22f5",
   "metadata": {},
   "source": [
    "---"
   ]
  },
  {
   "cell_type": "markdown",
   "id": "b76de9e0",
   "metadata": {},
   "source": [
    "## ⚙️ 1️⃣ Model Tipi: Encoder–Decoder (Seq2Seq LLM)\n",
    "\n",
    "### Bu yapıda:\n",
    "\n",
    "* Encoder, girdiyi (örneğin bir cümle veya belge) gizil temsile dönüştürür.\n",
    "\n",
    "* Decoder, bu temsilden yeni bir metin üretir (çeviri, özet, yanıt, açıklama vb.).\n",
    "\n",
    "* Yani Encoder = “Anla”, Decoder = “Anlattır”."
   ]
  },
  {
   "cell_type": "markdown",
   "id": "db8bc752",
   "metadata": {},
   "source": [
    "----"
   ]
  },
  {
   "cell_type": "markdown",
   "id": "b75e0964",
   "metadata": {},
   "source": [
    "# Veri Setini inceleyelim\n",
    "\n",
    "> ### Veri seti HuggingFace sitesinden alınmıştır : \"https://huggingface.co/datasets/Renicames/turkish-law-chatbot\""
   ]
  },
  {
   "cell_type": "code",
   "execution_count": 2,
   "id": "76989ef3",
   "metadata": {},
   "outputs": [
    {
     "name": "stderr",
     "output_type": "stream",
     "text": [
      "c:\\Users\\hdgn5\\.conda\\envs\\torch_gpu\\lib\\site-packages\\tqdm\\auto.py:21: TqdmWarning: IProgress not found. Please update jupyter and ipywidgets. See https://ipywidgets.readthedocs.io/en/stable/user_install.html\n",
      "  from .autonotebook import tqdm as notebook_tqdm\n"
     ]
    }
   ],
   "source": [
    "from datasets import load_dataset\n",
    "\n",
    "ds = load_dataset(\"Renicames/turkish-law-chatbot\")"
   ]
  },
  {
   "cell_type": "code",
   "execution_count": 3,
   "id": "b8c50d12",
   "metadata": {},
   "outputs": [
    {
     "name": "stdout",
     "output_type": "stream",
     "text": [
      "Toplam 13354 örnek yüklendi.\n",
      "🔹 Örnek Soru: Anayasa madde 1'e göre, türkiye'nin devlet şekli nedir\n",
      "🔹 Örnek Cevap: Anayasa madde 1'e göre, türkiye'nin devlet şekli cumhuriyettir. bu madde, türkiye'nin yönetim biçiminin halkın egemenliğine dayandığını ve bu yönetim biçiminin cumhuriyet olduğunu belirler. cumhuriyet, halkın kendi kendini yönetme biçimi olarak kabul edilir ve türkiye cumhuriyeti'nin temel yönetim ilkesi olarak anayasal güvence altına alınmıştır.\n"
     ]
    }
   ],
   "source": [
    "# Veri setini yükle\n",
    "from datasets import load_dataset\n",
    "ds = load_dataset(\"Renicames/turkish-law-chatbot\")\n",
    "\n",
    "# Eğitim kısmını al\n",
    "train_data = ds[\"train\"]\n",
    "\n",
    "# HuggingFace veri setinde sütun isimleri \"Soru\" ve \"Cevap\"\n",
    "input_texts  = [item[\"Soru\"] for item in train_data]\n",
    "target_texts = [item[\"Cevap\"] for item in train_data]\n",
    "\n",
    "print(f\"Toplam {len(input_texts)} örnek yüklendi.\")\n",
    "print(\"🔹 Örnek Soru:\", input_texts[0])\n",
    "print(\"🔹 Örnek Cevap:\", target_texts[0])\n"
   ]
  },
  {
   "cell_type": "markdown",
   "id": "3cbd356b",
   "metadata": {},
   "source": [
    "# Tokenizer "
   ]
  },
  {
   "cell_type": "code",
   "execution_count": 4,
   "id": "9ad1847b",
   "metadata": {},
   "outputs": [],
   "source": [
    "from torch.utils.data import DataLoader , Dataset\n",
    "from transformers import AutoTokenizer, get_linear_schedule_with_warmup\n",
    "import torch.nn as nn\n",
    "import torch.optim as optim\n",
    "from torch.optim import AdamW\n",
    "from torch.optim.lr_scheduler import LambdaLR\n",
    "import torch.nn.functional as F\n",
    "from tqdm import tqdm\n",
    "import numpy as np\n",
    "from nltk.translate.bleu_score import sentence_bleu\n",
    "import math\n",
    "from nltk.translate.bleu_score import corpus_bleu\n",
    "from nltk.translate.bleu_score import sentence_bleu, corpus_bleu, SmoothingFunction"
   ]
  },
  {
   "cell_type": "code",
   "execution_count": 5,
   "id": "b1cf5ba7",
   "metadata": {},
   "outputs": [],
   "source": [
    "class TokenizerDataset(Dataset):\n",
    "    def __init__(self , sources , targets , tokenizer_name = \"t5-small\" , max_length = 128):\n",
    "        super().__init__()\n",
    "        self.sources = sources\n",
    "        self.targets = targets \n",
    "        self.tokenizer = AutoTokenizer.from_pretrained(tokenizer_name)\n",
    "        self.max_length = max_length\n",
    "\n",
    "        if self.tokenizer.pad_token is None:\n",
    "            self.tokenizer.pad_token = self.tokenizer.eos_token\n",
    "        \n",
    "        self.decoder_start_token_id = (\n",
    "            self.tokenizer.bos_token_id  if self.tokenizer.bos_token_id is not None\n",
    "            else self.tokenizer.pad_token_id\n",
    "            )\n",
    "    \n",
    "    def __len__(self):\n",
    "        return len(self.sources)\n",
    "    \n",
    "    def __getitem__(self, idx):\n",
    "        \n",
    "        enc = self.tokenizer(\n",
    "            self.sources[idx],\n",
    "            max_length = self.max_length,\n",
    "            padding=\"max_length\",\n",
    "            truncation = True,\n",
    "            return_tensors = 'pt'\n",
    "            )\n",
    "        \n",
    "        dec = self.tokenizer(\n",
    "            self.targets[idx],\n",
    "            max_length = self.max_length,\n",
    "            padding=\"max_length\",\n",
    "            truncation=True,\n",
    "            return_tensors = 'pt'\n",
    "            )\n",
    "    \n",
    "        decoder_input_ids = torch.cat(\n",
    "            [torch.full((1, 1), self.decoder_start_token_id), dec['input_ids'][:, :-1]],\n",
    "            dim=1\n",
    "        )\n",
    "\n",
    "        decoder_targets_id = dec['input_ids']\n",
    "\n",
    "        return {\n",
    "            'encoder_input_ids': enc['input_ids'].squeeze(0),\n",
    "            'encoder_attention_mask': enc['attention_mask'].squeeze(0),\n",
    "            'decoder_input_ids': decoder_input_ids.squeeze(0),\n",
    "            'decoder_attention_mask': dec['attention_mask'].squeeze(0),\n",
    "            'decoder_target_ids': decoder_targets_id.squeeze(0)\n",
    "        }\n",
    "        "
   ]
  },
  {
   "cell_type": "code",
   "execution_count": 6,
   "id": "4ee2fe23",
   "metadata": {},
   "outputs": [],
   "source": [
    "def collate_fn(batch):\n",
    "    enc_ids = torch.stack([item['encoder_input_ids'] for item in batch])\n",
    "    enc_mask = torch.stack([item['encoder_attention_mask'] for item in batch])\n",
    "    dec_ids = torch.stack([item['decoder_input_ids'] for item in batch])\n",
    "    dec_mask = torch.stack([item['decoder_attention_mask'] for item in batch])\n",
    "    dec_target = torch.stack([item['decoder_target_ids'] for item in batch])\n",
    "    return {\n",
    "        'encoder_input_ids': enc_ids,\n",
    "        'encoder_attention_mask': enc_mask,\n",
    "        'decoder_input_ids': dec_ids,\n",
    "        'decoder_attention_mask': dec_mask,\n",
    "        'decoder_target_ids': dec_target\n",
    "    }"
   ]
  },
  {
   "cell_type": "code",
   "execution_count": 7,
   "id": "17a7906a",
   "metadata": {},
   "outputs": [],
   "source": [
    "dataset = TokenizerDataset(input_texts, target_texts, tokenizer_name=\"t5-small\", max_length=128)\n",
    "dataloader = DataLoader(dataset, batch_size=8 , shuffle=True, collate_fn=collate_fn)"
   ]
  },
  {
   "cell_type": "code",
   "execution_count": 8,
   "id": "006d2f07",
   "metadata": {},
   "outputs": [
    {
     "name": "stdout",
     "output_type": "stream",
     "text": [
      "Encoder Input IDs: torch.Size([8, 128])\n",
      "Encoder Attention Mask: torch.Size([8, 128])\n",
      "Decoder Input IDs: torch.Size([8, 128])\n",
      "Decoder Attention Mask: torch.Size([8, 128])\n",
      "Decoder Target IDs: torch.Size([8, 128])\n"
     ]
    }
   ],
   "source": [
    "device = \"cuda\" if torch.cuda.is_available() else \"cpu\"\n",
    "\n",
    "for batch in dataloader:\n",
    "    batch = {k:v.to(device) for k,v in batch.items()}\n",
    "    print(\"Encoder Input IDs:\", batch['encoder_input_ids'].shape)\n",
    "    print(\"Encoder Attention Mask:\", batch['encoder_attention_mask'].shape)\n",
    "    print(\"Decoder Input IDs:\", batch['decoder_input_ids'].shape)\n",
    "    print(\"Decoder Attention Mask:\", batch['decoder_attention_mask'].shape)\n",
    "    print(\"Decoder Target IDs:\", batch['decoder_target_ids'].shape)\n",
    "    break"
   ]
  },
  {
   "cell_type": "code",
   "execution_count": 9,
   "id": "b93b1b6c",
   "metadata": {},
   "outputs": [
    {
     "name": "stdout",
     "output_type": "stream",
     "text": [
      "tensor(24362, device='cuda:0')\n"
     ]
    }
   ],
   "source": [
    "batch_ids = batch['encoder_input_ids']\n",
    "print(batch_ids.max())"
   ]
  },
  {
   "cell_type": "markdown",
   "id": "3106970d",
   "metadata": {},
   "source": [
    "# ENCODER & DECODER"
   ]
  },
  {
   "cell_type": "code",
   "execution_count": 10,
   "id": "2dd23185",
   "metadata": {},
   "outputs": [],
   "source": [
    "class DropPath(nn.Module):\n",
    "    def __init__(self, drop_prob = 0.2):\n",
    "        super().__init__()\n",
    "        self.drop_prob = drop_prob\n",
    "    \n",
    "    def forward(self,x):\n",
    "        if self.drop_prob == 0.0 or not self.training:\n",
    "            return x\n",
    "    \n",
    "        keep_prob = 1 - self.drop_prob\n",
    "        shape = (x.size(0) , ) + (1,) * (x.ndim - 1)\n",
    "        random_tensors = keep_prob + torch.rand(shape , dtype=x.dtype , device=x.device)\n",
    "        random_tensors.floor_()\n",
    "        return x.div(keep_prob) * random_tensors"
   ]
  },
  {
   "cell_type": "code",
   "execution_count": 11,
   "id": "a5f06490",
   "metadata": {},
   "outputs": [],
   "source": [
    "class TokenEmbed(nn.Module):\n",
    "    def __init__(self, vocab_size , embed_dim):\n",
    "        super().__init__()\n",
    "        self.embedding = nn.Embedding(vocab_size , embed_dim)\n",
    "    \n",
    "    def forward(self,x):\n",
    "        return self.embedding(x)"
   ]
  },
  {
   "cell_type": "code",
   "execution_count": 12,
   "id": "05debc95",
   "metadata": {},
   "outputs": [],
   "source": [
    "class PositionelEncod(nn.Module):\n",
    "    def __init__(self, embed_dim , max_len = 5000):\n",
    "        super().__init__()\n",
    "\n",
    "        pe = torch.zeros(max_len , embed_dim)\n",
    "        position = torch.arange( 0 ,max_len , dtype=torch.float).unsqueeze(1)\n",
    "        div_term = torch.exp(torch.arange(0 , embed_dim , 2).float() * (-math.log(10000.0)/embed_dim))\n",
    "        pe[: , 0::2] = torch.sin(position * div_term)\n",
    "        pe[: , 1::2] = torch.cos(position * div_term)\n",
    "        pe = pe.unsqueeze(0)\n",
    "        self.register_buffer('pe' , pe)\n",
    "    \n",
    "    def forward(self,x):\n",
    "        seq_len = x.size(1)\n",
    "        return x + self.pe[: , :seq_len , :]"
   ]
  },
  {
   "cell_type": "code",
   "execution_count": 13,
   "id": "55695f71",
   "metadata": {},
   "outputs": [],
   "source": [
    "class MultiHeadAttention(nn.Module):\n",
    "    def __init__(self, embed_dim, num_heads=16, dp=0.1):\n",
    "        super().__init__()\n",
    "        assert embed_dim % num_heads == 0\n",
    "        self.num_heads = num_heads\n",
    "        self.head_dim = embed_dim // num_heads\n",
    "        self.scale = self.head_dim ** -0.5\n",
    "\n",
    "        self.q_proj = nn.Linear(embed_dim, embed_dim)\n",
    "        self.k_proj = nn.Linear(embed_dim, embed_dim)\n",
    "        self.v_proj = nn.Linear(embed_dim, embed_dim)\n",
    "        self.out_proj = nn.Linear(embed_dim, embed_dim)\n",
    "        self.dropout = nn.Dropout(dp)\n",
    "\n",
    "    def split_heads(self, x):\n",
    "        B, T, C = x.size()\n",
    "        return x.view(B, T, self.num_heads, self.head_dim).transpose(1, 2)  # [B, num_heads, T, head_dim]\n",
    "\n",
    "    def combine_heads(self, x):\n",
    "        B, H, T, D = x.size()\n",
    "        return x.transpose(1, 2).contiguous().view(B, T, H * D)\n",
    "\n",
    "    def forward(self, query, key, value, mask=None):\n",
    "        Q = self.split_heads(self.q_proj(query))\n",
    "        K = self.split_heads(self.k_proj(key))\n",
    "        V = self.split_heads(self.v_proj(value))\n",
    "\n",
    "        scores = torch.matmul(Q, K.transpose(-2, -1)) * self.scale  # [B, H, T_q, T_k]\n",
    "\n",
    "        if mask is not None:\n",
    "            # Mask broadcast: [B, T] -> [B, 1, 1, T] -> broadcastable\n",
    "            if mask.dim() == 2:\n",
    "                mask = mask[:, None, None, :]\n",
    "            elif mask.dim() == 3:\n",
    "                mask = mask[:, None, :, :]  # [B,1,T_q,T_k] (cross attention)\n",
    "            scores = scores.masked_fill(mask == 0, float('-inf'))\n",
    "\n",
    "        attn = torch.softmax(scores, dim=-1)\n",
    "        attn = self.dropout(attn)\n",
    "        out = torch.matmul(attn, V)\n",
    "        return self.out_proj(self.combine_heads(out))\n"
   ]
  },
  {
   "cell_type": "code",
   "execution_count": 14,
   "id": "8cc1d9bb",
   "metadata": {},
   "outputs": [],
   "source": [
    "class FeedForward(nn.Module):\n",
    "    def __init__(self, embed_dim, expansion=8, dp=0.1, use_swiglu=False):\n",
    "        super().__init__()\n",
    "        if use_swiglu:\n",
    "            # SwiGLU activation\n",
    "            self.net = nn.Sequential(\n",
    "                nn.Linear(embed_dim, embed_dim * expansion * 2),\n",
    "                nn.SiLU(),\n",
    "                nn.Dropout(dp),\n",
    "                nn.Linear(embed_dim * expansion, embed_dim),\n",
    "                nn.Dropout(dp)\n",
    "            )\n",
    "        else:\n",
    "            self.net = nn.Sequential(\n",
    "                nn.Linear(embed_dim, embed_dim * expansion),\n",
    "                nn.GELU(),\n",
    "                nn.Dropout(dp),\n",
    "                nn.Linear(embed_dim * expansion, embed_dim),\n",
    "                nn.Dropout(dp)\n",
    "            )\n",
    "    def forward(self, x):\n",
    "        return self.net(x)"
   ]
  },
  {
   "cell_type": "markdown",
   "id": "3f0542ad",
   "metadata": {},
   "source": [
    "# ENCODER"
   ]
  },
  {
   "cell_type": "code",
   "execution_count": 15,
   "id": "50c01273",
   "metadata": {},
   "outputs": [],
   "source": [
    "class TransformerEncoderBlockLLM(nn.Module):\n",
    "    def __init__(self, embed_dim=1024, num_heads=16, dp=0.1, drop_path=0.1, expansion=8, use_swiglu=False):\n",
    "        super().__init__()\n",
    "        self.norm1 = nn.LayerNorm(embed_dim)\n",
    "        self.norm2 = nn.LayerNorm(embed_dim)\n",
    "\n",
    "        self.self_attn = MultiHeadAttention(embed_dim, num_heads, dp)\n",
    "        self.ffn = FeedForward(embed_dim, expansion, dp, use_swiglu)\n",
    "\n",
    "        self.drop_path = DropPath(drop_path)\n",
    "        self.gamma_1 = nn.Parameter(torch.ones(embed_dim) * 1e-2)\n",
    "        self.gamma_2 = nn.Parameter(torch.ones(embed_dim) * 1e-2)\n",
    "\n",
    "    def forward(self, x, mask=None):\n",
    "        # Self-Attention\n",
    "        attn_out = self.self_attn(self.norm1(x), self.norm1(x), self.norm1(x), mask)\n",
    "        x = x + self.drop_path(self.gamma_1 * attn_out)\n",
    "        # FeedForward\n",
    "        ffn_out = self.ffn(self.norm2(x))\n",
    "        x = x + self.drop_path(self.gamma_2 * ffn_out)\n",
    "        return x"
   ]
  },
  {
   "cell_type": "code",
   "execution_count": 16,
   "id": "e7e39708",
   "metadata": {},
   "outputs": [],
   "source": [
    "class TransformersEncoderLLM(nn.Module):\n",
    "    def __init__(self, vocab_size , embed_dim = 1024 , num_layers = 12 , dp = 0.1 ,num_heads=16 ,  expansion = 8 , max_len= 5000 , drop_path = 0.1 , use_swiglu =False):\n",
    "        super().__init__()\n",
    "\n",
    "        self.tok_emb = TokenEmbed(vocab_size,embed_dim)\n",
    "        self.pos_enc = PositionelEncod(embed_dim , max_len)\n",
    "        self.layers = nn.ModuleList(\n",
    "            [TransformerEncoderBlockLLM(embed_dim , num_heads , dp , drop_path , expansion , use_swiglu) for _ in range(num_layers)]\n",
    "            )\n",
    "        self.norm = nn.LayerNorm(embed_dim)\n",
    "    \n",
    "    def forward(self,src_tokens , src_mask =None):\n",
    "        x = self.tok_emb(src_tokens)\n",
    "        x = self.pos_enc(x)\n",
    "        for layer in self.layers:\n",
    "            x = layer(x,mask = src_mask)\n",
    "        x = self.norm(x)\n",
    "        return x"
   ]
  },
  {
   "cell_type": "markdown",
   "id": "eeb5b99c",
   "metadata": {},
   "source": [
    "# DECODER"
   ]
  },
  {
   "cell_type": "code",
   "execution_count": 17,
   "id": "6222cc57",
   "metadata": {},
   "outputs": [],
   "source": [
    "class TransformerDecoderBlockLLM(nn.Module):\n",
    "    def __init__(self, embed_dim=1024, num_heads=16, dp=0.1, drop_path=0.1, expansion=8, use_swiglu=False):\n",
    "        super().__init__()\n",
    "        self.norm1 = nn.LayerNorm(embed_dim)\n",
    "        self.norm2 = nn.LayerNorm(embed_dim)\n",
    "        self.norm3 = nn.LayerNorm(embed_dim)\n",
    "\n",
    "        self.self_attn = MultiHeadAttention(embed_dim, num_heads, dp)\n",
    "        self.cross_attn = MultiHeadAttention(embed_dim, num_heads, dp)\n",
    "        self.ffn = FeedForward(embed_dim, expansion, dp, use_swiglu)\n",
    "\n",
    "        self.drop_path = DropPath(drop_path)\n",
    "        self.gamma_1 = nn.Parameter(torch.ones(embed_dim) * 1e-2)\n",
    "        self.gamma_2 = nn.Parameter(torch.ones(embed_dim) * 1e-2)\n",
    "        self.gamma_3 = nn.Parameter(torch.ones(embed_dim) * 1e-2)\n",
    "\n",
    "    def forward(self, x, enc_out=None, self_mask=None, enc_mask=None):\n",
    "        # Masked Self-Attention\n",
    "        if self_mask is not None:\n",
    "            # [B, T] -> [B, 1, T, T] (triangular mask veya pad mask)\n",
    "            if self_mask.dim() == 2:\n",
    "                # Causal mask: üst üçgen mask için manuel ekleme gerekebilir\n",
    "                causal_mask = torch.tril(torch.ones((x.size(1), x.size(1)), device=x.device)).bool()\n",
    "                self_mask = self_mask[:, None, :] & causal_mask[None, :, :]\n",
    "        attn_out = self.self_attn(self.norm1(x), self.norm1(x), self.norm1(x), mask=self_mask)\n",
    "        x = x + self.drop_path(self.gamma_1 * attn_out)\n",
    "\n",
    "        # Cross-Attention\n",
    "        if enc_out is not None:\n",
    "            if enc_mask is not None and enc_mask.dim() == 2:\n",
    "                enc_mask = enc_mask[:, None, None, :]  # [B,1,1,T_enc]\n",
    "            cross_out = self.cross_attn(self.norm2(x), self.norm2(enc_out), self.norm2(enc_out), mask=enc_mask)\n",
    "            x = x + self.drop_path(self.gamma_2 * cross_out)\n",
    "\n",
    "        # FeedForward\n",
    "        ffn_out = self.ffn(self.norm3(x))\n",
    "        x = x + self.drop_path(self.gamma_3 * ffn_out)\n",
    "\n",
    "        return x\n"
   ]
  },
  {
   "cell_type": "code",
   "execution_count": 18,
   "id": "08e62dcc",
   "metadata": {},
   "outputs": [],
   "source": [
    "class TransformerDecoderLLM(nn.Module):\n",
    "    def __init__(self, vocab_size, embed_dim=1024, num_layers=12, num_heads=16, dp=0.1, drop_path=0.1, expansion=8, max_len=5000, use_swiglu=False):\n",
    "        super().__init__()\n",
    "        self.embedding = TokenEmbed(vocab_size, embed_dim)\n",
    "        self.pos_encoding = PositionelEncod(embed_dim, max_len)\n",
    "        self.layers = nn.ModuleList([\n",
    "            TransformerDecoderBlockLLM(embed_dim, num_heads, dp, drop_path, expansion, use_swiglu) for _ in range(num_layers)\n",
    "        ])\n",
    "        self.norm = nn.LayerNorm(embed_dim)\n",
    "        self.lm_head = nn.Linear(embed_dim, vocab_size)\n",
    "\n",
    "    def forward(self, x, enc_out=None, self_mask=None, enc_mask=None):\n",
    "        x = self.embedding(x)\n",
    "        x = self.pos_encoding(x)\n",
    "        for layer in self.layers:\n",
    "            x = layer(x, enc_out, self_mask, enc_mask)\n",
    "        x = self.norm(x)\n",
    "        logits = self.lm_head(x)\n",
    "        return logits"
   ]
  },
  {
   "cell_type": "markdown",
   "id": "fceec2c9",
   "metadata": {},
   "source": [
    "# TRAİN"
   ]
  },
  {
   "cell_type": "code",
   "execution_count": 19,
   "id": "69e7cbb1",
   "metadata": {},
   "outputs": [],
   "source": [
    "vocab_size = dataset.tokenizer.vocab_size\n",
    "embed_dim = 512\n",
    "num_layers = 6\n",
    "num_heads = 4\n",
    "dp = 0.2\n",
    "drop_path = 0.1\n",
    "expansion = 6\n",
    "max_len = 128\n",
    "use_swiglu = False\n",
    "batch_size = 8"
   ]
  },
  {
   "cell_type": "code",
   "execution_count": 20,
   "id": "a350e6b0",
   "metadata": {},
   "outputs": [],
   "source": [
    "encoder = TransformersEncoderLLM(\n",
    "    vocab_size=vocab_size,\n",
    "    embed_dim=embed_dim,\n",
    "    num_layers=num_layers,\n",
    "    num_heads=num_heads,\n",
    "    dp=dp,\n",
    "    drop_path=drop_path,\n",
    "    expansion=expansion,\n",
    "    max_len=max_len,\n",
    "    use_swiglu=use_swiglu\n",
    ")\n",
    "\n",
    "decoder = TransformerDecoderLLM(\n",
    "    vocab_size=vocab_size,\n",
    "    embed_dim=embed_dim,\n",
    "    num_layers=num_layers,\n",
    "    num_heads=num_heads,\n",
    "    dp=dp,\n",
    "    drop_path=drop_path,\n",
    "    expansion=expansion,\n",
    "    max_len=max_len,\n",
    "    use_swiglu=use_swiglu\n",
    ")\n"
   ]
  },
  {
   "cell_type": "code",
   "execution_count": 21,
   "id": "1a186bd4",
   "metadata": {},
   "outputs": [],
   "source": [
    "def top_k_top_p_filtering(logits, top_k=50, top_p=0.9, filter_value=-float(\"Inf\")):\n",
    "\n",
    "    logits = logits.clone()\n",
    "\n",
    "    # --- TOP-K ---\n",
    "    if top_k > 0:\n",
    "        top_k = min(top_k, logits.size(-1))\n",
    "        indices_to_remove = logits < torch.topk(logits, top_k, dim=-1).values[..., -1, None]\n",
    "        logits[indices_to_remove] = filter_value\n",
    "\n",
    "    # --- TOP-P (nucleus sampling) ---\n",
    "    if top_p < 1.0:\n",
    "        sorted_logits, sorted_indices = torch.sort(logits, descending=True, dim=-1)\n",
    "        cumulative_probs = torch.cumsum(torch.softmax(sorted_logits, dim=-1), dim=-1)\n",
    "\n",
    "        sorted_indices_to_remove = cumulative_probs > top_p\n",
    "        sorted_indices_to_remove[..., 1:] = sorted_indices_to_remove[..., :-1].clone()\n",
    "        sorted_indices_to_remove[..., 0] = 0\n",
    "\n",
    "        for i in range(logits.size(0)):\n",
    "            remove_idx = sorted_indices[i, sorted_indices_to_remove[i]]\n",
    "            logits[i, remove_idx] = filter_value\n",
    "\n",
    "    return logits\n"
   ]
  },
  {
   "cell_type": "code",
   "execution_count": 22,
   "id": "dd65707e",
   "metadata": {},
   "outputs": [],
   "source": [
    "class Seq2SeqLLM(nn.Module):\n",
    "    def __init__(self, encoder, decoder):\n",
    "        super().__init__()\n",
    "        self.encoder = encoder\n",
    "        self.decoder = decoder\n",
    "    \n",
    "    def forward(self, src_tokens, tgt_tokens, src_mask=None, tgt_mask=None):\n",
    "        enc_out = self.encoder(src_tokens, src_mask)\n",
    "        logits = self.decoder(tgt_tokens, enc_out, self_mask=tgt_mask, enc_mask=src_mask)\n",
    "        return logits"
   ]
  },
  {
   "cell_type": "code",
   "execution_count": 23,
   "id": "90d1ce08",
   "metadata": {},
   "outputs": [],
   "source": [
    "model = Seq2SeqLLM(encoder, decoder).to(device)"
   ]
  },
  {
   "cell_type": "markdown",
   "id": "86abc75d",
   "metadata": {},
   "source": [
    "# LOSS / METRİCS"
   ]
  },
  {
   "cell_type": "code",
   "execution_count": 24,
   "id": "33b8eff7",
   "metadata": {},
   "outputs": [],
   "source": [
    "def masked_cross_entropy_loss(logits, target_ids, pad_token_id):\n",
    "    \"\"\"Maskeli CrossEntropyLoss\"\"\"\n",
    "    loss_fct = torch.nn.CrossEntropyLoss(ignore_index=pad_token_id)\n",
    "    return loss_fct(logits.view(-1, logits.size(-1)), target_ids.view(-1))"
   ]
  },
  {
   "cell_type": "code",
   "execution_count": 25,
   "id": "9154c94f",
   "metadata": {},
   "outputs": [],
   "source": [
    "def accuracy_fn(preds, labels, pad_token_id):\n",
    "    mask = labels != pad_token_id\n",
    "    correct = (preds == labels) & mask\n",
    "    return correct.sum().item() / mask.sum().item()"
   ]
  },
  {
   "cell_type": "code",
   "execution_count": 26,
   "id": "23a1fbf5",
   "metadata": {},
   "outputs": [],
   "source": [
    "def top_k_accuracy_fn(logits, labels, pad_token_id, k=5):\n",
    "\n",
    "    \"\"\"Top-K accuracy: doğru token top-k tahmin içinde ise sayılır\"\"\"\n",
    "    \n",
    "    mask = labels != pad_token_id\n",
    "    topk = torch.topk(logits, k, dim=-1).indices\n",
    "    match = (topk == labels.unsqueeze(-1)).any(dim=-1)\n",
    "    return (match & mask).sum().item() / mask.sum().item()"
   ]
  },
  {
   "cell_type": "code",
   "execution_count": 27,
   "id": "f749712d",
   "metadata": {},
   "outputs": [],
   "source": [
    "\n",
    "smooth = SmoothingFunction().method1\n",
    "\n",
    "def calculate_llm_metrics(logits, target_ids, pad_token_id):\n",
    "    # ---- Perplexity ----\n",
    "    loss_fct = torch.nn.CrossEntropyLoss(ignore_index=pad_token_id, reduction='none')\n",
    "    loss = loss_fct(logits.view(-1, logits.size(-1)), target_ids.view(-1))\n",
    "    ppl = torch.exp(loss.mean())\n",
    "\n",
    "    # ---- BLEU ----\n",
    "    preds = logits.argmax(-1).cpu().numpy()\n",
    "    targets = target_ids.cpu().numpy()\n",
    "    sent_bleus = []\n",
    "    preds_tokens_list = []\n",
    "    targets_tokens_list = []\n",
    "\n",
    "    for p, t in zip(preds, targets):\n",
    "        p_tokens = [tok for tok in p if tok != pad_token_id]\n",
    "        t_tokens = [tok for tok in t if tok != pad_token_id]\n",
    "        preds_tokens_list.append(p_tokens)\n",
    "        targets_tokens_list.append(t_tokens)\n",
    "        if len(p_tokens) == 0 or len(t_tokens) == 0:\n",
    "            sent_bleus.append(0.0)\n",
    "        else:\n",
    "            sent_bleus.append(sentence_bleu([t_tokens], p_tokens, smoothing_function=smooth))\n",
    "\n",
    "    avg_sent_bleu = sum(sent_bleus) / len(sent_bleus)\n",
    "    corpus_bleu_score = corpus_bleu([[t] for t in targets_tokens_list], preds_tokens_list, smoothing_function=smooth)\n",
    "\n",
    "    return ppl.item(), avg_sent_bleu, corpus_bleu_score\n"
   ]
  },
  {
   "cell_type": "code",
   "execution_count": 28,
   "id": "56f8191c",
   "metadata": {},
   "outputs": [],
   "source": [
    "def LLM_Train(model, dataloader, optimizer, scheduler, tokenizer, device, epochs=3, top_k=50, top_p=0.9, sample_interval=1, sample_texts=None):\n",
    "    \"\"\"\n",
    "    sample_texts: List[str], her sample_interval epoch'ta örnek generation için kullanılacak\n",
    "    \"\"\"\n",
    "    model.train()\n",
    "\n",
    "    if sample_texts is None:\n",
    "        sample_texts = [\"Türkiye Cumhuriyeti Anayasası nedir?\", \"Boşanma davaları nasıl açılır?\", \"Vergi borcu nasıl ödenir?\"]\n",
    "\n",
    "    for epoch in range(epochs):\n",
    "        total_loss = 0.0\n",
    "        total_acc = 0.0\n",
    "        total_top5 = 0.0\n",
    "        total_ppl = 0.0\n",
    "        total_sent_bleu = 0.0\n",
    "        total_corpus_bleu = 0.0\n",
    "        steps = 0\n",
    "\n",
    "        pbar = tqdm(dataloader, desc=f\"Epoch {epoch+1}/{epochs}\")\n",
    "\n",
    "        for batch in pbar:\n",
    "            batch = {k: v.to(device) for k, v in batch.items()}\n",
    "            optimizer.zero_grad()\n",
    "\n",
    "            # ---- Forward ----\n",
    "            logits = model(\n",
    "                src_tokens=batch['encoder_input_ids'],\n",
    "                tgt_tokens=batch['decoder_input_ids'],\n",
    "                src_mask=batch['encoder_attention_mask'],\n",
    "                tgt_mask=batch['decoder_attention_mask']\n",
    "            )\n",
    "\n",
    "            # ---- Loss ----\n",
    "            loss = masked_cross_entropy_loss(\n",
    "                logits,\n",
    "                batch['decoder_target_ids'],\n",
    "                pad_token_id=tokenizer.pad_token_id\n",
    "            )\n",
    "\n",
    "            # ---- Backward ----\n",
    "            loss.backward()\n",
    "            optimizer.step()\n",
    "            scheduler.step()\n",
    "\n",
    "            # ---- Metrics ----\n",
    "            preds = logits.argmax(-1)\n",
    "            acc = accuracy_fn(preds, batch['decoder_target_ids'], tokenizer.pad_token_id)\n",
    "            top5 = top_k_accuracy_fn(logits, batch['decoder_target_ids'], tokenizer.pad_token_id, k=5)\n",
    "            ppl, sent_bleu, corpus_bleu_score = calculate_llm_metrics(\n",
    "                logits,\n",
    "                batch['decoder_target_ids'],\n",
    "                tokenizer.pad_token_id\n",
    "            )\n",
    "\n",
    "            total_loss += loss.item()\n",
    "            total_acc += acc\n",
    "            total_top5 += top5\n",
    "            total_ppl += ppl\n",
    "            total_sent_bleu += sent_bleu\n",
    "            total_corpus_bleu += corpus_bleu_score\n",
    "            steps += 1\n",
    "\n",
    "            pbar.set_postfix({\n",
    "                \"Loss\": f\"{total_loss/steps:.4f}\",\n",
    "                \"Acc\": f\"{total_acc/steps:.4f}\",\n",
    "                \"Top5\": f\"{total_top5/steps:.4f}\",\n",
    "                \"PPL\": f\"{total_ppl/steps:.2f}\",\n",
    "                \"Sent-BLEU\": f\"{total_sent_bleu/steps:.4f}\",\n",
    "                \"Corpus-BLEU\": f\"{total_corpus_bleu/steps:.4f}\"\n",
    "            })\n",
    "\n",
    "        print(f\"\\n✅ Epoch {epoch+1} — Avg Loss: {total_loss/steps:.4f}, Accuracy: {total_acc/steps:.4f}, \"\n",
    "              f\"Top-5: {total_top5/steps:.4f}, Perplexity: {total_ppl/steps:.2f}, \"\n",
    "              f\"Sent-BLEU: {total_sent_bleu/steps:.4f}, Corpus-BLEU: {total_corpus_bleu/steps:.4f}\\n\")"
   ]
  },
  {
   "cell_type": "code",
   "execution_count": 29,
   "id": "e69976c9",
   "metadata": {},
   "outputs": [],
   "source": [
    "import torch\n",
    "import torch.nn.functional as F\n",
    "\n",
    "def generate_seq2seq_advanced(\n",
    "    model,\n",
    "    tokenizer,\n",
    "    src_texts,\n",
    "    max_len=128,\n",
    "    top_k=85,\n",
    "    top_p=0.95,\n",
    "    temperature=1.0,\n",
    "    n_samples=1,\n",
    "    device=None,\n",
    "    debug=False\n",
    "):\n",
    "    \"\"\"\n",
    "    Güvenli (NaN-safe, device-safe, vocab-safe) seq2seq üretici.\n",
    "    model: Seq2SeqLLM instance (eval modunda olmalı)\n",
    "    tokenizer: huggingface tokenizer (ör: dataset.tokenizer)\n",
    "    src_texts: list of strings\n",
    "    device: None ise model.device kullanılır veya otomatik infer edilir\n",
    "    debug: True ise bazı kontrol çıktıları basar\n",
    "    \"\"\"\n",
    "    model.eval()\n",
    "\n",
    "    # infer device\n",
    "    if device is None:\n",
    "        try:\n",
    "            # model param'larından birinin cihazını al\n",
    "            device = next(model.parameters()).device\n",
    "        except StopIteration:\n",
    "            device = torch.device(\"cuda\" if torch.cuda.is_available() else \"cpu\")\n",
    "\n",
    "    # Tokenize encoder input\n",
    "    batch_enc = tokenizer(\n",
    "        src_texts, padding='longest', truncation=True, max_length=max_len, return_tensors='pt'\n",
    "    )\n",
    "    enc_ids = batch_enc['input_ids'].to(device)\n",
    "    enc_mask = batch_enc['attention_mask'].to(device)\n",
    "\n",
    "    batch_size = enc_ids.size(0)\n",
    "    vocab_size_tokenizer = tokenizer.vocab_size\n",
    "\n",
    "    outputs = []\n",
    "\n",
    "    # optional: ensure model on device\n",
    "    model.to(device)\n",
    "\n",
    "    with torch.no_grad():\n",
    "        for sample_i in range(n_samples):\n",
    "            # başlangıç tokeni (pad veya bos)\n",
    "            dec_input_ids = torch.full(\n",
    "                (batch_size, 1),\n",
    "                tokenizer.pad_token_id if tokenizer.pad_token_id is not None else tokenizer.eos_token_id,\n",
    "                dtype=torch.long,\n",
    "                device=device\n",
    "            )\n",
    "\n",
    "            for step in range(max_len):\n",
    "                # Model logits: [B, T_dec, V_model]\n",
    "                logits = model(enc_ids, dec_input_ids, src_mask=enc_mask, tgt_mask=None)\n",
    "\n",
    "                # Son token logits\n",
    "                next_token_logits = logits[:, -1, :].float()  # [B, V_model]\n",
    "\n",
    "                # Eğer modelin vokab çıkışı tokenizatörle uyuşmuyorsa slice et (güvenlik)\n",
    "                if next_token_logits.size(-1) != vocab_size_tokenizer:\n",
    "                    if debug:\n",
    "                        print(f\"Warning: model vocab_dim={next_token_logits.size(-1)} != tokenizer.vocab_size={vocab_size_tokenizer}. Slicing logits.\")\n",
    "                    # slice: eğer model daha büyükse kes; eğer daha küçüksa pad with -inf\n",
    "                    model_vocab = next_token_logits.size(-1)\n",
    "                    if model_vocab > vocab_size_tokenizer:\n",
    "                        next_token_logits = next_token_logits[:, :vocab_size_tokenizer]\n",
    "                    else:\n",
    "                        # model_vocab < tokenizer.vocab_size -> genişlet (neg inf)\n",
    "                        pad_size = vocab_size_tokenizer - model_vocab\n",
    "                        pad = torch.full((batch_size, pad_size), -float('Inf'), device=device, dtype=next_token_logits.dtype)\n",
    "                        next_token_logits = torch.cat([next_token_logits, pad], dim=-1)\n",
    "\n",
    "                # apply temperature\n",
    "                if temperature != 1.0 and temperature > 0:\n",
    "                    next_token_logits = next_token_logits / max(temperature, 1e-8)\n",
    "\n",
    "                # --- TOP-K ---\n",
    "                logits_for_sampling = next_token_logits.clone()\n",
    "                if top_k and top_k > 0:\n",
    "                    top_k_val = min(max(1, int(top_k)), logits_for_sampling.size(-1))\n",
    "                    topk_vals, topk_idx = torch.topk(logits_for_sampling, top_k_val, dim=-1)\n",
    "                    mask = torch.full_like(logits_for_sampling, -float('Inf'), device=device)\n",
    "                    # scatter topk values back\n",
    "                    mask.scatter_(-1, topk_idx, topk_vals)\n",
    "                    logits_for_sampling = mask\n",
    "\n",
    "                # --- TOP-P (nucleus) ---\n",
    "                if top_p is not None and 0.0 < top_p < 1.0:\n",
    "                    sorted_logits, sorted_indices = torch.sort(logits_for_sampling, descending=True, dim=-1)\n",
    "                    cumulative_probs = torch.cumsum(F.softmax(sorted_logits, dim=-1), dim=-1)\n",
    "                    # mask tokens beyond top_p\n",
    "                    sorted_mask = cumulative_probs > top_p\n",
    "                    # keep first token even if cumulative > top_p at index 0\n",
    "                    sorted_mask[:, 0] = False\n",
    "                    # map sorted mask back to original indices\n",
    "                    remove_idx = sorted_indices[sorted_mask]\n",
    "                    logits_for_sampling.view(-1)[remove_idx] = -float('Inf')\n",
    "\n",
    "                # clean NaN/inf\n",
    "                logits_for_sampling = torch.where(torch.isfinite(logits_for_sampling), logits_for_sampling, torch.tensor(-1e9, device=device))\n",
    "\n",
    "                # softmax -> probs\n",
    "                probs = F.softmax(logits_for_sampling, dim=-1)\n",
    "\n",
    "                # nan or all-zero check per batch element\n",
    "                nan_mask = torch.isnan(probs).any(dim=-1)\n",
    "                zero_prob_mask = (probs.sum(dim=-1) == 0.0)\n",
    "\n",
    "                if debug and (nan_mask.any() or zero_prob_mask.any()):\n",
    "                    print(f\"Step {step}: NaN mask {nan_mask}, zero-sum mask {zero_prob_mask}\")\n",
    "\n",
    "                # replace NaN/zero rows with unfiltered softmax (fallback)\n",
    "                if nan_mask.any() or zero_prob_mask.any():\n",
    "                    fallback_probs = F.softmax(next_token_logits, dim=-1)\n",
    "                    fallback_probs = torch.nan_to_num(fallback_probs, nan=0.0, posinf=0.0, neginf=0.0)\n",
    "                    # where problematic, use fallback\n",
    "                    replace_idx = (nan_mask | zero_prob_mask).nonzero(as_tuple=False).squeeze(-1)\n",
    "                    for idx in replace_idx:\n",
    "                        probs[idx] = fallback_probs[idx]\n",
    "                    # if still zero, use argmax fallback later\n",
    "\n",
    "                # ensure numeric stability\n",
    "                probs = torch.nan_to_num(probs, nan=0.0, posinf=0.0, neginf=0.0)\n",
    "\n",
    "                # sampling: try multinomial, fallback to argmax if invalid\n",
    "                try:\n",
    "                    # per-row normalize (safe)\n",
    "                    probs = probs / (probs.sum(dim=-1, keepdim=True) + 1e-12)\n",
    "                    next_tokens = torch.multinomial(probs, num_samples=1)\n",
    "                except Exception as e:\n",
    "                    if debug:\n",
    "                        print(\"multinomial failed, fallback to argmax. err:\", e)\n",
    "                    next_tokens = probs.argmax(dim=-1, keepdim=True)\n",
    "\n",
    "                # cat to decoder input\n",
    "                dec_input_ids = torch.cat([dec_input_ids, next_tokens], dim=1)\n",
    "\n",
    "            # decode sequences (skip special tokens)\n",
    "            for seq in dec_input_ids:\n",
    "                txt = tokenizer.decode(seq.cpu().numpy(), skip_special_tokens=True)\n",
    "                outputs.append(txt)\n",
    "\n",
    "    return outputs\n"
   ]
  },
  {
   "cell_type": "code",
   "execution_count": 30,
   "id": "c965f176",
   "metadata": {},
   "outputs": [],
   "source": [
    "optimizer = AdamW(model.parameters(), lr=5e-5, weight_decay=0.01)\n",
    "\n",
    "num_training_steps = len(dataloader) * 3"
   ]
  },
  {
   "cell_type": "code",
   "execution_count": 31,
   "id": "b472f5e2",
   "metadata": {},
   "outputs": [],
   "source": [
    "epochs = 5\n",
    "num_training_steps = len(dataloader) * epochs\n",
    "num_warmup_steps = int(0.1 * num_training_steps)  # %10 warmup"
   ]
  },
  {
   "cell_type": "code",
   "execution_count": 32,
   "id": "36d227ee",
   "metadata": {},
   "outputs": [],
   "source": [
    "scheduler = get_linear_schedule_with_warmup(\n",
    "    optimizer,\n",
    "    num_warmup_steps=num_warmup_steps,\n",
    "    num_training_steps=num_training_steps\n",
    ")"
   ]
  },
  {
   "cell_type": "code",
   "execution_count": 33,
   "id": "544444b6",
   "metadata": {},
   "outputs": [
    {
     "name": "stderr",
     "output_type": "stream",
     "text": [
      "Epoch 1/5: 100%|██████████| 1670/1670 [04:33<00:00,  6.11it/s, Loss=4.9334, Acc=0.2088, Top5=0.4347, PPL=448.84, Sent-BLEU=0.0389, Corpus-BLEU=0.0415] \n"
     ]
    },
    {
     "name": "stdout",
     "output_type": "stream",
     "text": [
      "\n",
      "✅ Epoch 1 — Avg Loss: 4.9334, Accuracy: 0.2088, Top-5: 0.4347, Perplexity: 448.84, Sent-BLEU: 0.0389, Corpus-BLEU: 0.0415\n",
      "\n"
     ]
    },
    {
     "name": "stderr",
     "output_type": "stream",
     "text": [
      "Epoch 2/5: 100%|██████████| 1670/1670 [04:32<00:00,  6.13it/s, Loss=2.7293, Acc=0.3744, Top5=0.6711, PPL=7.84, Sent-BLEU=0.0939, Corpus-BLEU=0.1038]\n"
     ]
    },
    {
     "name": "stdout",
     "output_type": "stream",
     "text": [
      "\n",
      "✅ Epoch 2 — Avg Loss: 2.7293, Accuracy: 0.3744, Top-5: 0.6711, Perplexity: 7.84, Sent-BLEU: 0.0939, Corpus-BLEU: 0.1038\n",
      "\n"
     ]
    },
    {
     "name": "stderr",
     "output_type": "stream",
     "text": [
      "Epoch 3/5: 100%|██████████| 1670/1670 [04:37<00:00,  6.02it/s, Loss=2.4445, Acc=0.4242, Top5=0.7095, PPL=6.31, Sent-BLEU=0.1206, Corpus-BLEU=0.1332]\n"
     ]
    },
    {
     "name": "stdout",
     "output_type": "stream",
     "text": [
      "\n",
      "✅ Epoch 3 — Avg Loss: 2.4445, Accuracy: 0.4242, Top-5: 0.7095, Perplexity: 6.31, Sent-BLEU: 0.1206, Corpus-BLEU: 0.1332\n",
      "\n"
     ]
    },
    {
     "name": "stderr",
     "output_type": "stream",
     "text": [
      "Epoch 4/5: 100%|██████████| 1670/1670 [04:36<00:00,  6.03it/s, Loss=2.2971, Acc=0.4554, Top5=0.7313, PPL=5.64, Sent-BLEU=0.1410, Corpus-BLEU=0.1552]\n"
     ]
    },
    {
     "name": "stdout",
     "output_type": "stream",
     "text": [
      "\n",
      "✅ Epoch 4 — Avg Loss: 2.2971, Accuracy: 0.4554, Top-5: 0.7313, Perplexity: 5.64, Sent-BLEU: 0.1410, Corpus-BLEU: 0.1552\n",
      "\n"
     ]
    },
    {
     "name": "stderr",
     "output_type": "stream",
     "text": [
      "Epoch 5/5: 100%|██████████| 1670/1670 [04:35<00:00,  6.06it/s, Loss=2.2280, Acc=0.4696, Top5=0.7413, PPL=5.36, Sent-BLEU=0.1505, Corpus-BLEU=0.1648]"
     ]
    },
    {
     "name": "stdout",
     "output_type": "stream",
     "text": [
      "\n",
      "✅ Epoch 5 — Avg Loss: 2.2280, Accuracy: 0.4696, Top-5: 0.7413, Perplexity: 5.36, Sent-BLEU: 0.1505, Corpus-BLEU: 0.1648\n",
      "\n"
     ]
    },
    {
     "name": "stderr",
     "output_type": "stream",
     "text": [
      "\n"
     ]
    }
   ],
   "source": [
    "LLM_Train(model, dataloader, optimizer, scheduler, dataset.tokenizer, device, epochs=epochs)"
   ]
  },
  {
   "cell_type": "markdown",
   "id": "f324969f",
   "metadata": {},
   "source": []
  },
  {
   "cell_type": "code",
   "execution_count": 34,
   "id": "c1e54834",
   "metadata": {},
   "outputs": [
    {
     "name": "stdout",
     "output_type": "stream",
     "text": [
      "Tokenizer vocab: 32100\n"
     ]
    }
   ],
   "source": [
    "print(\"Tokenizer vocab:\", dataset.tokenizer.vocab_size)\n"
   ]
  },
  {
   "cell_type": "code",
   "execution_count": 35,
   "id": "567d79b6",
   "metadata": {},
   "outputs": [
    {
     "name": "stderr",
     "output_type": "stream",
     "text": [
      "C:\\Users\\hdgn5\\AppData\\Local\\Temp\\ipykernel_15624\\2680515004.py:3: FutureWarning: You are using `torch.load` with `weights_only=False` (the current default value), which uses the default pickle module implicitly. It is possible to construct malicious pickle data which will execute arbitrary code during unpickling (See https://github.com/pytorch/pytorch/blob/main/SECURITY.md#untrusted-models for more details). In a future release, the default value for `weights_only` will be flipped to `True`. This limits the functions that could be executed during unpickling. Arbitrary objects will no longer be allowed to be loaded via this mode unless they are explicitly allowlisted by the user via `torch.serialization.add_safe_globals`. We recommend you start setting `weights_only=True` for any use case where you don't have full control of the loaded file. Please open an issue on GitHub for any issues related to this experimental feature.\n",
      "  model.load_state_dict(torch.load(\"final_model.pt\", map_location=device))\n"
     ]
    },
    {
     "data": {
      "text/plain": [
       "Seq2SeqLLM(\n",
       "  (encoder): TransformersEncoderLLM(\n",
       "    (tok_emb): TokenEmbed(\n",
       "      (embedding): Embedding(32100, 512)\n",
       "    )\n",
       "    (pos_enc): PositionelEncod()\n",
       "    (layers): ModuleList(\n",
       "      (0-5): 6 x TransformerEncoderBlockLLM(\n",
       "        (norm1): LayerNorm((512,), eps=1e-05, elementwise_affine=True)\n",
       "        (norm2): LayerNorm((512,), eps=1e-05, elementwise_affine=True)\n",
       "        (self_attn): MultiHeadAttention(\n",
       "          (q_proj): Linear(in_features=512, out_features=512, bias=True)\n",
       "          (k_proj): Linear(in_features=512, out_features=512, bias=True)\n",
       "          (v_proj): Linear(in_features=512, out_features=512, bias=True)\n",
       "          (out_proj): Linear(in_features=512, out_features=512, bias=True)\n",
       "          (dropout): Dropout(p=0.2, inplace=False)\n",
       "        )\n",
       "        (ffn): FeedForward(\n",
       "          (net): Sequential(\n",
       "            (0): Linear(in_features=512, out_features=3072, bias=True)\n",
       "            (1): GELU(approximate='none')\n",
       "            (2): Dropout(p=0.2, inplace=False)\n",
       "            (3): Linear(in_features=3072, out_features=512, bias=True)\n",
       "            (4): Dropout(p=0.2, inplace=False)\n",
       "          )\n",
       "        )\n",
       "        (drop_path): DropPath()\n",
       "      )\n",
       "    )\n",
       "    (norm): LayerNorm((512,), eps=1e-05, elementwise_affine=True)\n",
       "  )\n",
       "  (decoder): TransformerDecoderLLM(\n",
       "    (embedding): TokenEmbed(\n",
       "      (embedding): Embedding(32100, 512)\n",
       "    )\n",
       "    (pos_encoding): PositionelEncod()\n",
       "    (layers): ModuleList(\n",
       "      (0-5): 6 x TransformerDecoderBlockLLM(\n",
       "        (norm1): LayerNorm((512,), eps=1e-05, elementwise_affine=True)\n",
       "        (norm2): LayerNorm((512,), eps=1e-05, elementwise_affine=True)\n",
       "        (norm3): LayerNorm((512,), eps=1e-05, elementwise_affine=True)\n",
       "        (self_attn): MultiHeadAttention(\n",
       "          (q_proj): Linear(in_features=512, out_features=512, bias=True)\n",
       "          (k_proj): Linear(in_features=512, out_features=512, bias=True)\n",
       "          (v_proj): Linear(in_features=512, out_features=512, bias=True)\n",
       "          (out_proj): Linear(in_features=512, out_features=512, bias=True)\n",
       "          (dropout): Dropout(p=0.2, inplace=False)\n",
       "        )\n",
       "        (cross_attn): MultiHeadAttention(\n",
       "          (q_proj): Linear(in_features=512, out_features=512, bias=True)\n",
       "          (k_proj): Linear(in_features=512, out_features=512, bias=True)\n",
       "          (v_proj): Linear(in_features=512, out_features=512, bias=True)\n",
       "          (out_proj): Linear(in_features=512, out_features=512, bias=True)\n",
       "          (dropout): Dropout(p=0.2, inplace=False)\n",
       "        )\n",
       "        (ffn): FeedForward(\n",
       "          (net): Sequential(\n",
       "            (0): Linear(in_features=512, out_features=3072, bias=True)\n",
       "            (1): GELU(approximate='none')\n",
       "            (2): Dropout(p=0.2, inplace=False)\n",
       "            (3): Linear(in_features=3072, out_features=512, bias=True)\n",
       "            (4): Dropout(p=0.2, inplace=False)\n",
       "          )\n",
       "        )\n",
       "        (drop_path): DropPath()\n",
       "      )\n",
       "    )\n",
       "    (norm): LayerNorm((512,), eps=1e-05, elementwise_affine=True)\n",
       "    (lm_head): Linear(in_features=512, out_features=32100, bias=True)\n",
       "  )\n",
       ")"
      ]
     },
     "execution_count": 35,
     "metadata": {},
     "output_type": "execute_result"
    }
   ],
   "source": [
    "torch.save(model.state_dict(), \"final_model.pt\")\n",
    "\n",
    "model.load_state_dict(torch.load(\"final_model.pt\", map_location=device))\n",
    "model.eval()"
   ]
  },
  {
   "cell_type": "code",
   "execution_count": 36,
   "id": "e413b1a5",
   "metadata": {},
   "outputs": [
    {
     "name": "stdout",
     "output_type": "stream",
     "text": [
      "\n",
      "===== Örnek Generation =====\n",
      "🔹 Soru: Türkiye Cumhuriyeti Anayasası hakkında detaylı bilgi ver.\n",
      "🔹 Model Cevabı: Evet, karşt bir takizmeti ve yayaslam, kamuduruluki ve yolararasalnnrlmasn ilanrla asaz yahiptik toplum olarak için belirlir olarnda a oyapklar.uye yiniz. ayaplr\n",
      "\n"
     ]
    }
   ],
   "source": [
    "# Model GPU'ya\n",
    "model = model.to(device)\n",
    "\n",
    "sample_texts = [\n",
    "    \"Türkiye Cumhuriyeti Anayasası hakkında detaylı bilgi ver.\"\n",
    "]\n",
    "\n",
    "\n",
    "# Tokenizer tensörleri GPU'ya taşındı\n",
    "batch_enc = dataset.tokenizer(\n",
    "    sample_texts,\n",
    "    padding='longest',\n",
    "    truncation=True,\n",
    "    max_length=128,\n",
    "    return_tensors='pt'\n",
    ").to(device)\n",
    "\n",
    "enc_ids = batch_enc['input_ids']\n",
    "enc_mask = batch_enc['attention_mask']\n",
    "\n",
    "# Decoder başlangıcı\n",
    "dec_input_ids = torch.full(\n",
    "    (enc_ids.size(0), 1),\n",
    "    dataset.tokenizer.pad_token_id,\n",
    "    dtype=torch.long,\n",
    "    device=device\n",
    ")\n",
    "\n",
    "generated_texts = generate_seq2seq_advanced(\n",
    "    model=model,\n",
    "    tokenizer=dataset.tokenizer,\n",
    "    src_texts=sample_texts,\n",
    "    max_len=128,\n",
    "    top_k=30,        \n",
    "    top_p=0.95,\n",
    "    temperature=1.0,\n",
    "    n_samples=1,\n",
    "    device=None,     # otomatik infer eder\n",
    "    debug=True       # ilk denemede hata ayıklama çıktıları görmek için\n",
    ")\n",
    "\n",
    "\n",
    "\n",
    "print(\"\\n===== Örnek Generation =====\")\n",
    "for src, gen in zip(sample_texts, generated_texts):\n",
    "    print(f\"🔹 Soru: {src}\")\n",
    "    print(f\"🔹 Model Cevabı: {gen}\\n\")\n"
   ]
  },
  {
   "cell_type": "code",
   "execution_count": 38,
   "id": "43a6c341",
   "metadata": {},
   "outputs": [
    {
     "data": {
      "image/png": "[encoded data removed]",
      "text/plain": [
       "<Figure size 1200x800 with 1 Axes>"
      ]
     },
     "metadata": {},
     "output_type": "display_data"
    }
   ],
   "source": [
    "import matplotlib.pyplot as plt\n",
    "import matplotlib.image as mpimg\n",
    "\n",
    "# Fotoğrafın yolu\n",
    "image_path = r\"C:\\Users\\hdgn5\\OneDrive\\Masaüstü\\PyTorch - Transformers  - LLM\\LLM & Transformers\\LLM - Uygulama\\metrics.png\"\n",
    "\n",
    "# Fotoğrafı yükle\n",
    "img = mpimg.imread(image_path)\n",
    "\n",
    "# Görüntüyü büyüt (örnek: 12x8 inç)\n",
    "plt.figure(figsize=(12, 8))\n",
    "plt.imshow(img)\n",
    "plt.axis('off')  # Eksenleri gizle\n",
    "plt.show()\n"
   ]
  }
 ],
 "metadata": {
  "kernelspec": {
   "display_name": "torch_gpu",
   "language": "python",
   "name": "python3"
  },
  "language_info": {
   "codemirror_mode": {
    "name": "ipython",
    "version": 3
   },
   "file_extension": ".py",
   "mimetype": "text/x-python",
   "name": "python",
   "nbconvert_exporter": "python",
   "pygments_lexer": "ipython3",
   "version": "3.10.18"
  }
 },
 "nbformat": 4,
 "nbformat_minor": 5
}
